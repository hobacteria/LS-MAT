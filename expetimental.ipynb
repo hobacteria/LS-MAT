{
 "cells": [
  {
   "cell_type": "code",
   "execution_count": 3,
   "metadata": {},
   "outputs": [],
   "source": [
    "import sys\n",
    "sys.path.append('/camin1/hkkim/controlnet-infer/')\n",
    "from brainstat.datasets import fetch_mask, fetch_template_surface\n",
    "from brainstat.tutorial.utils import fetch_mics_data\n",
    "import numpy as np\n",
    "from MPC.io_mesh import load_mesh_data\n",
    "from brainspace.datasets import load_parcellation, load_conte69\n",
    "import nibabel as nib\n",
    "import os\n",
    "import pandas as pd\n",
    "import numpy as np\n",
    "from brainstat.datasets import fetch_mask, fetch_template_surface\n",
    "    \n",
    "from brainspace.plotting import plot_hemispheres\n",
    "from brainspace.utils.parcellation import map_to_labels\n",
    "from tqdm import tqdm"
   ]
  },
  {
   "cell_type": "code",
   "execution_count": 4,
   "metadata": {},
   "outputs": [],
   "source": [
    "def check_complete_subject(subject_folder):\n",
    "    if not os.path.exists(os.path.join(subject_folder,'/label')):\n",
    "        n = []\n",
    "    \n",
    "    else: \n",
    "        n = os.listdir(os.path.join(subject_folder,'/label'))\n",
    "    \n",
    "    if len(n) != 91:\n",
    "        return False\n",
    "    else: True"
   ]
  },
  {
   "cell_type": "code",
   "execution_count": 15,
   "metadata": {},
   "outputs": [
    {
     "name": "stdout",
     "output_type": "stream",
     "text": [
      "Total number of subjects is 304 Total number of missing subjects is 92\n"
     ]
    }
   ],
   "source": [
    "root_dir = './surfaces'\n",
    "with open('./surfaces/subjects.txt','r') as f: \n",
    "    all_subjects = f.readlines()\n",
    "    all_subjects = [l.strip('\\n') for l in all_subjects]\n",
    "    \n",
    "miss_sub = []\n",
    "anat_subject = []\n",
    "for sub_line in all_subjects:\n",
    "    s = sub_line.split('=')[0]\n",
    "    if not os.path.exists(os.path.join(root_dir,s) + '/label'):\n",
    "        n = []\n",
    "    \n",
    "    else: \n",
    "        n = os.listdir(os.path.join(root_dir,s) + '/label')\n",
    "    \n",
    "    if len(n) != 91:\n",
    "        miss_sub.append(s)\n",
    "    else: anat_subject.append(sub_line)\n",
    "        \n",
    "print('Total number of subjects is ' + str(len(all_subjects)), 'Total number of missing subjects is ' + str(len(miss_sub)))\n"
   ]
  },
  {
   "cell_type": "markdown",
   "metadata": {},
   "source": [
    "# Thickness"
   ]
  },
  {
   "cell_type": "code",
   "execution_count": 139,
   "metadata": {},
   "outputs": [],
   "source": [
    "[labels_lh, ctab_lh, names_lh] = nib.freesurfer.io.read_annot('./MPC/parcellations/lh.schaefer-300_mics.annot')\n",
    "[labels_rh, ctab_rh, names_rh] = nib.freesurfer.io.read_annot('./MPC/parcellations/rh.schaefer-300_mics.annot')\n"
   ]
  },
  {
   "cell_type": "code",
   "execution_count": 140,
   "metadata": {},
   "outputs": [],
   "source": [
    "label = load_parcellation('schaefer', scale=300, join=True)"
   ]
  },
  {
   "cell_type": "code",
   "execution_count": 59,
   "metadata": {},
   "outputs": [
    {
     "data": {
      "text/plain": [
       "0"
      ]
     },
     "execution_count": 59,
     "metadata": {},
     "output_type": "execute_result"
    }
   ],
   "source": [
    "os.system('cp -r /usr/local/freesurfer7/subjects/fsaverage5 ./')"
   ]
  },
  {
   "cell_type": "code",
   "execution_count": 141,
   "metadata": {},
   "outputs": [],
   "source": [
    "def fs_avg_5_mapping(src_sub, target_sub, hemi):\n",
    "    command = f'export SUBJECTS_DIR= ; \\\n",
    "    mri_surf2surf \\\n",
    "    --srcsubject {src_sub} \\\n",
    "    --sval thickness \\\n",
    "    --trgsubject {target_sub} \\\n",
    "    --tval fsaverage5.thickness \\\n",
    "    --hemi {hemi} \\\n",
    "    --surfreg sphere.reg \\\n",
    "    --src_type curv \\\n",
    "    --trg_type curv >/dev/null 2>&1'\n",
    "    \n",
    "\n",
    "\n",
    "    os.system('export SUBJECTS_DIR=/')\n",
    "    os.system(command)\n",
    "    os.system(f'mv /{target_sub}/surf/{hemi}.fsaverage5.thickness /{src_sub}/surf/{hemi}.fsaverage5.thickness')\n"
   ]
  },
  {
   "cell_type": "code",
   "execution_count": 142,
   "metadata": {},
   "outputs": [],
   "source": [
    "def get_complete_subject_list(root_path):\n",
    "    subjects = []\n",
    "    for sub in os.listdir(f'{root_path}'):\n",
    "        if os.path.exists(f'{root_path}/{sub}/label'):\n",
    "            if len(os.listdir(f'{root_path}/{sub}/label')) == 91:\n",
    "                if os.path.exists(f'{root_path}/{sub}/anat/surfaces/micro_profiles'):\n",
    "                    if len(os.listdir(f'{root_path}/{sub}/anat/surfaces/micro_profiles')) == 92:\n",
    "                        subjects.append(f'{root_path}/{sub}')\n",
    "    return subjects"
   ]
  },
  {
   "cell_type": "code",
   "execution_count": 164,
   "metadata": {},
   "outputs": [],
   "source": [
    "all_subjects = get_complete_subject_list('./surfaces_v1')"
   ]
  },
  {
   "cell_type": "code",
   "execution_count": null,
   "metadata": {},
   "outputs": [
    {
     "name": "stderr",
     "output_type": "stream",
     "text": [
      " 65%|██████▍   | 44/68 [05:37<03:10,  7.94s/it]mv: cannot move '//camin1/hkkim/controlnet-infer/fsaverage5/surf/lh.fsaverage5.thickness' to '//camin1/hkkim/controlnet-infer/surfaces/_HCP_761957_T1w_restore_brain_T1w_age_20.0/surf/lh.fsaverage5.thickness': No such file or directory\n",
      " 85%|████████▌ | 58/68 [07:24<01:16,  7.63s/it]mv: cannot move '//camin1/hkkim/controlnet-infer/fsaverage5/surf/rh.fsaverage5.thickness' to '//camin1/hkkim/controlnet-infer/surfaces/_HCP_761957_T1w_restore_brain_T1w_age_40.0/surf/rh.fsaverage5.thickness': No such file or directory\n",
      "100%|██████████| 68/68 [08:38<00:00,  7.63s/it]\n"
     ]
    }
   ],
   "source": [
    "#for subject in tqdm(all_subjects):\n",
    "#    target_sub = os.path.abspath('./fsaverage5')\n",
    "#    subject = os.path.abspath(subject)\n",
    "#    for hemi in ['lh','rh']:\n",
    "#        fs_avg_5_mapping(subject, target_sub, hemi)\n",
    "        "
   ]
  },
  {
   "cell_type": "code",
   "execution_count": 165,
   "metadata": {},
   "outputs": [],
   "source": [
    "## load fsaverage5 labels\n",
    "[labels_lh, ctab_lh, names_lh] = nib.freesurfer.io.read_annot('./MPC/parcellations/lh.schaefer-300_mics.annot', orig_ids=True)\n",
    "[labels_rh, ctab_rh, names_rh] = nib.freesurfer.io.read_annot('./MPC/parcellations/rh.schaefer-300_mics.annot', orig_ids=True)\n",
    "labels_rh = labels_rh.astype(int)\n",
    "labels_lh = labels_lh.astype(int)\n",
    "labels_rh = labels_rh\n",
    "fs5_labels = np.concatenate([labels_lh, labels_rh])"
   ]
  },
  {
   "cell_type": "code",
   "execution_count": 166,
   "metadata": {},
   "outputs": [],
   "source": [
    "parcLength = len(labels_lh)+len(labels_rh)\n",
    "parc = np.zeros((parcLength))\n",
    "for (x, _) in enumerate(labels_lh):\n",
    "    parc[x] = np.where(ctab_lh[:,4] == labels_lh[x])[0][0]\n",
    "for (x, _) in enumerate(labels_rh):\n",
    "    parc[x + len(labels_lh)] = np.where(ctab_rh[:,4] == labels_rh[x])[0][0] + len(ctab_lh)\n",
    "uparcel = np.unique(parc)"
   ]
  },
  {
   "cell_type": "code",
   "execution_count": 167,
   "metadata": {},
   "outputs": [],
   "source": [
    "schaefer_labels = load_parcellation('schaefer', scale=300, join=True)"
   ]
  },
  {
   "cell_type": "code",
   "execution_count": 168,
   "metadata": {},
   "outputs": [],
   "source": [
    "def get_fsa5_thickness(src_sub, labels = None):\n",
    "    thickness_lh = load_mesh_data(f'{src_sub}/surf/lh.fsaverage5.thickness').astype(float)\n",
    "    thickness_rh = load_mesh_data(f'{src_sub}/surf/rh.fsaverage5.thickness').astype(float)\n",
    "    thickness = np.concatenate([thickness_lh, thickness_rh])\n",
    "    if isinstance(labels, type(None)):\n",
    "        return thickness\n",
    "    else:\n",
    "        thickness = pd.DataFrame({'labels':labels, 'thickness':thickness}).groupby('labels').mean().sort_index()\n",
    "        thickness = thickness.to_numpy().reshape(-1) ## 300*1 thickness\n",
    "        return thickness"
   ]
  },
  {
   "cell_type": "code",
   "execution_count": 169,
   "metadata": {},
   "outputs": [
    {
     "name": "stderr",
     "output_type": "stream",
     "text": [
      "100%|██████████| 236/236 [00:06<00:00, 35.92it/s]\n"
     ]
    }
   ],
   "source": [
    "group_thickness = np.zeros((len(all_subjects),302))\n",
    "demo_info = [] ## syn age\n",
    "subject_info = []\n",
    "for (i, subject) in enumerate(tqdm(all_subjects)):\n",
    "    \n",
    "    age = float(subject.split('_')[-1])\n",
    "    sub_id = subject.replace('HCP_d','HCPd').split('_')[3]\n",
    "    group_thickness[i] = get_fsa5_thickness(subject, parc)\n",
    "    demo_info.append(int(age))\n",
    "    subject_info.append(sub_id)"
   ]
  },
  {
   "cell_type": "code",
   "execution_count": 171,
   "metadata": {},
   "outputs": [],
   "source": [
    "brain_feature_thickness = pd.merge(pd.DataFrame(parc,columns = ['label']), pd.DataFrame(group_thickness).T, left_on=['label'], right_index=True)#.to_csv('/camin1/hkkim/control-net/custom/MPC/brain_feature_thickness.csv', index=False)\n",
    "label = brain_feature_thickness['label']\n",
    "brain_feature_thickness.drop('label', axis=1, inplace=True)"
   ]
  },
  {
   "cell_type": "code",
   "execution_count": 172,
   "metadata": {},
   "outputs": [],
   "source": [
    "brain_feature_thickness = brain_feature_thickness.T"
   ]
  },
  {
   "cell_type": "code",
   "execution_count": 173,
   "metadata": {},
   "outputs": [],
   "source": [
    "mask = np.asarray([0, int(len(uparcel)/2)])\n",
    "parc[parc == mask[0]] = 0\n",
    "parc[parc == mask[1]] = 0"
   ]
  },
  {
   "cell_type": "code",
   "execution_count": 174,
   "metadata": {},
   "outputs": [
    {
     "data": {
      "text/plain": [
       "array([  0, 151])"
      ]
     },
     "execution_count": 174,
     "metadata": {},
     "output_type": "execute_result"
    }
   ],
   "source": [
    "mask"
   ]
  },
  {
   "cell_type": "code",
   "execution_count": 175,
   "metadata": {},
   "outputs": [],
   "source": [
    "thickness_10 = np.mean(brain_feature_thickness.loc[np.where(np.array(demo_info) == 10)], axis=0)\n",
    "thickness_80 = np.mean(brain_feature_thickness.loc[np.where(np.array(demo_info) == 80)], axis=0)        \n"
   ]
  },
  {
   "cell_type": "code",
   "execution_count": 176,
   "metadata": {},
   "outputs": [],
   "source": [
    "thickness_delta = thickness_80 - thickness_10"
   ]
  },
  {
   "cell_type": "code",
   "execution_count": 177,
   "metadata": {},
   "outputs": [],
   "source": [
    "mask = schaefer_labels != 0\n",
    "mapped_thickness = map_to_labels(thickness_delta, schaefer_labels, mask=mask,\n",
    "                    fill=np.nan)"
   ]
  },
  {
   "cell_type": "code",
   "execution_count": 178,
   "metadata": {},
   "outputs": [],
   "source": [
    "surf_lh, surf_rh = load_conte69()"
   ]
  },
  {
   "cell_type": "code",
   "execution_count": 179,
   "metadata": {},
   "outputs": [],
   "source": [
    "group_thickness = pd.DataFrame(group_thickness)\n",
    "group_thickness['age'] = demo_info\n",
    "group_thickness['subject_id'] = subject_info\n"
   ]
  },
  {
   "cell_type": "code",
   "execution_count": 180,
   "metadata": {},
   "outputs": [],
   "source": [
    "group_thickness.to_csv('group_thickness.csv')"
   ]
  },
  {
   "cell_type": "markdown",
   "metadata": {},
   "source": [
    "## Modeling"
   ]
  },
  {
   "cell_type": "code",
   "execution_count": 124,
   "metadata": {},
   "outputs": [],
   "source": [
    "from brainstat.stats.terms import FixedEffect\n",
    "from brainstat.stats.SLM import SLM\n"
   ]
  },
  {
   "cell_type": "code",
   "execution_count": 125,
   "metadata": {},
   "outputs": [],
   "source": [
    "model = FixedEffect(demo_info, \"AGE_AT_SCAN\")"
   ]
  },
  {
   "cell_type": "code",
   "execution_count": 126,
   "metadata": {},
   "outputs": [],
   "source": [
    "labeling = load_parcellation('schaefer', scale=300, join=True)\n",
    "mask = labeling != 0"
   ]
  },
  {
   "cell_type": "code",
   "execution_count": 127,
   "metadata": {},
   "outputs": [],
   "source": [
    "from brainspace.gradient import GradientMaps\n",
    "\n",
    "def get_grad_from_MPC(conn_matrix):\n",
    "    labeling = load_parcellation('schaefer', scale=300, join=True)\n",
    "    mask = labeling != 0\n",
    "    del_ls = np.where(conn_matrix.sum(0)==0)[0]\n",
    "    conn_matrix = np.delete(np.delete(conn_matrix, del_ls, axis=0), del_ls, axis=1)\n",
    "    grad_map = GradientMaps(n_components=10, random_state=None, approach='dm', kernel='normalized_angle',alignment='procrustes')\n",
    "    grad_map.fit(conn_matrix, sparsity=0.9)\n",
    "    grads = grad_map.gradients_.copy()\n",
    "    for idx in del_ls:\n",
    "        grads = np.insert(grads, idx, 0, axis=0)\n",
    "    gradients = map_to_labels(grads[:, 0], labeling, mask=mask,\n",
    "                        fill=np.nan).tolist()\n",
    "\n",
    "    return gradients,grads"
   ]
  },
  {
   "cell_type": "markdown",
   "metadata": {},
   "source": [
    "## Gradient"
   ]
  },
  {
   "cell_type": "code",
   "execution_count": 128,
   "metadata": {},
   "outputs": [],
   "source": [
    "gradient_features = np.zeros((len(all_subjects),302))\n",
    "i = 0\n",
    "for root in all_subjects:\n",
    "    sub_nm = root.split('/')[-1]\n",
    "    f = f'anat/surfaces/micro_profiles/{sub_nm}_space-fsaverage5_atlas-schaefer-300_desc-MPC.txt'\n",
    "    conn_matrix = np.loadtxt(os.path.join(root,f))\n",
    "    gradients,grads = get_grad_from_MPC(conn_matrix)\n",
    "    gradient_features[i] = grads[:,0]\n",
    "    i +=1"
   ]
  },
  {
   "cell_type": "code",
   "execution_count": 129,
   "metadata": {},
   "outputs": [],
   "source": [
    "gradient_features_df = pd.DataFrame(gradient_features)\n",
    "gradient_features_df['age'] = demo_info\n",
    "gradient_features_df['subject_id'] = subject_info"
   ]
  },
  {
   "cell_type": "code",
   "execution_count": 130,
   "metadata": {},
   "outputs": [],
   "source": [
    "gradient_features_df.to_csv('brain_gradient_for_modeling.csv')"
   ]
  },
  {
   "cell_type": "markdown",
   "metadata": {},
   "source": [
    "## Moment"
   ]
  },
  {
   "cell_type": "code",
   "execution_count": 132,
   "metadata": {},
   "outputs": [],
   "source": [
    "from scipy.stats import skew, kurtosis\n",
    "group_mean = np.zeros((len(all_subjects),302))\n",
    "group_std = np.zeros((len(all_subjects),302))\n",
    "group_skew = np.zeros((len(all_subjects),302))\n",
    "group_kurto = np.zeros((len(all_subjects),302))\n",
    "\n",
    "src_sub = './surfaces_v1'\n",
    "for i,sub in enumerate(all_subjects):\n",
    "    sub_nm = sub.split('/')[-1]\n",
    "    \n",
    "    # load intensity\n",
    "    temp = np.loadtxt(f\"{src_sub}/{sub_nm}/anat/surfaces/micro_profiles/{sub_nm}_space-fsaverage5_atlas-schaefer-300_desc-intensity_profiles.txt\")\n",
    "\n",
    "    # delete nan\n",
    "    nan_ls = np.unique(np.where(np.isnan(temp))[1])\n",
    "    inten = np.delete(temp, nan_ls, axis=1)\n",
    "    \n",
    "    # momnet\n",
    "    mean = inten.mean(0)\n",
    "    std = inten.std(0)\n",
    "    skew_ = skew(inten)\n",
    "    kurto_ = kurtosis(inten)\n",
    "    ## fill medial wall\n",
    "    \n",
    "    group_mean[i,1:151],group_mean[i,152:] = mean[:150],mean[150:]\n",
    "    group_std[i,1:151],group_std[i,152:] = std[:150],std[150:]\n",
    "    group_skew[i,1:151],group_skew[i,152:] = skew_[:150],skew_[150:]\n",
    "    group_kurto[i,1:151],group_kurto[i,152:] = kurto_[:150],kurto_[150:]    "
   ]
  },
  {
   "cell_type": "code",
   "execution_count": 133,
   "metadata": {},
   "outputs": [],
   "source": [
    "group_mean_df = pd.DataFrame(group_mean)\n",
    "group_mean_df['age'] = demo_info\n",
    "group_std_df = pd.DataFrame(group_std)\n",
    "group_std_df['age'] = demo_info\n",
    "group_skew_df = pd.DataFrame(group_skew)\n",
    "group_skew_df['age'] = demo_info\n",
    "group_kurto_df = pd.DataFrame(group_kurto)\n",
    "group_kurto_df['age'] = demo_info"
   ]
  },
  {
   "cell_type": "code",
   "execution_count": 134,
   "metadata": {},
   "outputs": [],
   "source": [
    "group_mean_df.to_csv('group_mean.csv',index = False)\n",
    "group_std_df.to_csv('group_std.csv',index = False)\n",
    "group_skew_df.to_csv('group_skew.csv',index = False)\n",
    "group_kurto_df.to_csv('group_kurto.csv',index = False)"
   ]
  },
  {
   "cell_type": "markdown",
   "metadata": {},
   "source": [
    "## Ventrical"
   ]
  },
  {
   "cell_type": "code",
   "execution_count": 135,
   "metadata": {},
   "outputs": [],
   "source": [
    "ventrical_vol = np.zeros((len(all_subjects),1))\n",
    "for i,root in enumerate(all_subjects):\n",
    "    f = 'stats/brainvol.stats'\n",
    "    with open(os.path.join(root,f),'r') as f:\n",
    "        vol=float(f.readlines()[-1].split(',')[-2])\n",
    "        ventrical_vol[i] = vol\n"
   ]
  },
  {
   "cell_type": "code",
   "execution_count": 136,
   "metadata": {},
   "outputs": [],
   "source": [
    "ventrical_vol_df = pd.DataFrame(ventrical_vol)\n",
    "ventrical_vol_df['age'] = demo_info"
   ]
  },
  {
   "cell_type": "code",
   "execution_count": 137,
   "metadata": {},
   "outputs": [
    {
     "data": {
      "text/plain": [
       "<Axes: xlabel='age'>"
      ]
     },
     "execution_count": 137,
     "metadata": {},
     "output_type": "execute_result"
    },
    {
     "data": {
      "image/png": "[encoded data removed]",
      "text/plain": [
       "<Figure size 640x480 with 1 Axes>"
      ]
     },
     "metadata": {},
     "output_type": "display_data"
    }
   ],
   "source": [
    "ventrical_vol_df.groupby('age').mean().plot()"
   ]
  },
  {
   "cell_type": "markdown",
   "metadata": {},
   "source": [
    "## Thickness of 4 lobes"
   ]
  },
  {
   "cell_type": "code",
   "execution_count": 96,
   "metadata": {},
   "outputs": [],
   "source": [
    "[labels_rh, ctab_rh, names_rh] = nib.freesurfer.io.read_annot('./MPC/parcellations/rh.aparc_mics.annot')\n",
    "[labels_lh, ctab_lh, names_lh] = nib.freesurfer.io.read_annot('./MPC/parcellations/lh.aparc_mics.annot')"
   ]
  },
  {
   "cell_type": "code",
   "execution_count": 97,
   "metadata": {},
   "outputs": [],
   "source": [
    "for i in range(len(names_lh)):\n",
    "    if names_lh[i] != names_rh[i]:\n",
    "        print(names_lh[i] , names_rh[i])"
   ]
  },
  {
   "cell_type": "code",
   "execution_count": 98,
   "metadata": {},
   "outputs": [],
   "source": [
    "brain_lobe_mapping = {\n",
    "    'unknown': 'unknown',\n",
    "    'bankssts': 'Temporal Lobe',\n",
    "    'caudalanteriorcingulate': 'unknown',\n",
    "    'caudalmiddlefrontal': 'Frontal Lobe',\n",
    "    'corpuscallosum': 'unknown',\n",
    "    'cuneus': 'Occipital Lobe',\n",
    "    'entorhinal': 'Temporal Lobe',\n",
    "    'fusiform': 'Temporal Lobe',\n",
    "    'inferiorparietal': 'Parietal Lobe',\n",
    "    'inferiortemporal': 'Temporal Lobe',\n",
    "    'isthmuscingulate': 'unknown',\n",
    "    'lateraloccipital': 'Occipital Lobe',\n",
    "    'lateralorbitofrontal': 'Frontal Lobe',\n",
    "    'lingual': 'Occipital Lobe',\n",
    "    'medialorbitofrontal': 'Frontal Lobe',\n",
    "    'middletemporal': 'Temporal Lobe',\n",
    "    'parahippocampal': 'Temporal Lobe',\n",
    "    'paracentral': 'Parietal Lobe',\n",
    "    'parsopercularis': 'Frontal Lobe',\n",
    "    'parsorbitalis': 'Frontal Lobe',\n",
    "    'parstriangularis': 'Frontal Lobe',\n",
    "    'pericalcarine': 'Occipital Lobe',\n",
    "    'postcentral': 'Parietal Lobe',\n",
    "    'posteriorcingulate': 'unknown',\n",
    "    'precentral': 'Frontal Lobe',\n",
    "    'precuneus': 'Parietal Lobe',\n",
    "    'rostralanteriorcingulate': 'unknown',\n",
    "    'rostralmiddlefrontal': 'Frontal Lobe',\n",
    "    'superiorfrontal': 'Frontal Lobe',\n",
    "    'superiorparietal': 'Parietal Lobe',\n",
    "    'superiortemporal': 'Temporal Lobe',\n",
    "    'supramarginal': 'Parietal Lobe',\n",
    "    'frontalpole': 'Frontal Lobe',\n",
    "    'temporalpole': 'Temporal Lobe',\n",
    "    'transversetemporal': 'Temporal Lobe',\n",
    "    'insula': 'unknown',\n",
    "}\n"
   ]
  },
  {
   "cell_type": "code",
   "execution_count": 99,
   "metadata": {},
   "outputs": [],
   "source": [
    "lobe_label_mapping = {\n",
    "    'unknown' : 0,\n",
    "    'Frontal Lobe' : 1,\n",
    "    'Occipital Lobe' : 2,\n",
    "    'Parietal Lobe' : 3,\n",
    "    'Temporal Lobe' : 4\n",
    "    \n",
    "}"
   ]
  },
  {
   "cell_type": "code",
   "execution_count": 100,
   "metadata": {},
   "outputs": [],
   "source": [
    "lobes_name = [brain_lobe_mapping[n.decode()] for n in names_rh]\n",
    "fsa_lobes = [lobes_name[n] for n in labels_lh] + [lobes_name[n] for n in labels_rh]"
   ]
  },
  {
   "cell_type": "code",
   "execution_count": 101,
   "metadata": {},
   "outputs": [
    {
     "data": {
      "text/html": [
       "<div>\n",
       "<style scoped>\n",
       "    .dataframe tbody tr th:only-of-type {\n",
       "        vertical-align: middle;\n",
       "    }\n",
       "\n",
       "    .dataframe tbody tr th {\n",
       "        vertical-align: top;\n",
       "    }\n",
       "\n",
       "    .dataframe thead th {\n",
       "        text-align: right;\n",
       "    }\n",
       "</style>\n",
       "<table border=\"1\" class=\"dataframe\">\n",
       "  <thead>\n",
       "    <tr style=\"text-align: right;\">\n",
       "      <th>lobe_name</th>\n",
       "      <th>Frontal Lobe</th>\n",
       "      <th>Occipital Lobe</th>\n",
       "      <th>Parietal Lobe</th>\n",
       "      <th>Temporal Lobe</th>\n",
       "      <th>unknown</th>\n",
       "    </tr>\n",
       "  </thead>\n",
       "  <tbody>\n",
       "    <tr>\n",
       "      <th>0</th>\n",
       "      <td>2.843137</td>\n",
       "      <td>2.482916</td>\n",
       "      <td>2.813439</td>\n",
       "      <td>3.184202</td>\n",
       "      <td>1.833495</td>\n",
       "    </tr>\n",
       "    <tr>\n",
       "      <th>1</th>\n",
       "      <td>3.215779</td>\n",
       "      <td>2.609572</td>\n",
       "      <td>2.953599</td>\n",
       "      <td>3.521355</td>\n",
       "      <td>1.960855</td>\n",
       "    </tr>\n",
       "    <tr>\n",
       "      <th>2</th>\n",
       "      <td>2.947542</td>\n",
       "      <td>2.465451</td>\n",
       "      <td>2.863629</td>\n",
       "      <td>3.108723</td>\n",
       "      <td>1.812942</td>\n",
       "    </tr>\n",
       "    <tr>\n",
       "      <th>3</th>\n",
       "      <td>3.181935</td>\n",
       "      <td>2.569177</td>\n",
       "      <td>3.012282</td>\n",
       "      <td>3.302149</td>\n",
       "      <td>1.880484</td>\n",
       "    </tr>\n",
       "    <tr>\n",
       "      <th>4</th>\n",
       "      <td>3.127665</td>\n",
       "      <td>2.444310</td>\n",
       "      <td>2.999677</td>\n",
       "      <td>3.260680</td>\n",
       "      <td>1.838335</td>\n",
       "    </tr>\n",
       "    <tr>\n",
       "      <th>...</th>\n",
       "      <td>...</td>\n",
       "      <td>...</td>\n",
       "      <td>...</td>\n",
       "      <td>...</td>\n",
       "      <td>...</td>\n",
       "    </tr>\n",
       "    <tr>\n",
       "      <th>63</th>\n",
       "      <td>3.250168</td>\n",
       "      <td>2.487404</td>\n",
       "      <td>2.956424</td>\n",
       "      <td>3.294270</td>\n",
       "      <td>1.846035</td>\n",
       "    </tr>\n",
       "    <tr>\n",
       "      <th>64</th>\n",
       "      <td>2.974839</td>\n",
       "      <td>2.693728</td>\n",
       "      <td>2.946342</td>\n",
       "      <td>3.352749</td>\n",
       "      <td>1.840752</td>\n",
       "    </tr>\n",
       "    <tr>\n",
       "      <th>65</th>\n",
       "      <td>3.179749</td>\n",
       "      <td>2.559837</td>\n",
       "      <td>3.035633</td>\n",
       "      <td>3.225005</td>\n",
       "      <td>1.822393</td>\n",
       "    </tr>\n",
       "    <tr>\n",
       "      <th>66</th>\n",
       "      <td>3.360895</td>\n",
       "      <td>2.449279</td>\n",
       "      <td>2.984096</td>\n",
       "      <td>3.410071</td>\n",
       "      <td>1.881023</td>\n",
       "    </tr>\n",
       "    <tr>\n",
       "      <th>67</th>\n",
       "      <td>2.973348</td>\n",
       "      <td>2.431515</td>\n",
       "      <td>2.806481</td>\n",
       "      <td>3.110539</td>\n",
       "      <td>1.834400</td>\n",
       "    </tr>\n",
       "  </tbody>\n",
       "</table>\n",
       "<p>68 rows × 5 columns</p>\n",
       "</div>"
      ],
      "text/plain": [
       "lobe_name  Frontal Lobe  Occipital Lobe  Parietal Lobe  Temporal Lobe  \\\n",
       "0              2.843137        2.482916       2.813439       3.184202   \n",
       "1              3.215779        2.609572       2.953599       3.521355   \n",
       "2              2.947542        2.465451       2.863629       3.108723   \n",
       "3              3.181935        2.569177       3.012282       3.302149   \n",
       "4              3.127665        2.444310       2.999677       3.260680   \n",
       "..                  ...             ...            ...            ...   \n",
       "63             3.250168        2.487404       2.956424       3.294270   \n",
       "64             2.974839        2.693728       2.946342       3.352749   \n",
       "65             3.179749        2.559837       3.035633       3.225005   \n",
       "66             3.360895        2.449279       2.984096       3.410071   \n",
       "67             2.973348        2.431515       2.806481       3.110539   \n",
       "\n",
       "lobe_name   unknown  \n",
       "0          1.833495  \n",
       "1          1.960855  \n",
       "2          1.812942  \n",
       "3          1.880484  \n",
       "4          1.838335  \n",
       "..              ...  \n",
       "63         1.846035  \n",
       "64         1.840752  \n",
       "65         1.822393  \n",
       "66         1.881023  \n",
       "67         1.834400  \n",
       "\n",
       "[68 rows x 5 columns]"
      ]
     },
     "execution_count": 101,
     "metadata": {},
     "output_type": "execute_result"
    }
   ],
   "source": [
    "brain_feature_thickness_by_lobes = brain_feature_thickness.T\n",
    "brain_feature_thickness_by_lobes['lobe_name'] = fsa_lobes\n",
    "brain_feature_thickness_by_lobes = brain_feature_thickness_by_lobes.groupby('lobe_name').mean().T\n",
    "brain_feature_thickness_by_lobes"
   ]
  },
  {
   "cell_type": "code",
   "execution_count": 102,
   "metadata": {},
   "outputs": [],
   "source": [
    "age_thickness_lobes_df = pd.DataFrame(columns=brain_feature_thickness_by_lobes.columns)\n",
    "for age in range(10,81,10):\n",
    "    by_age = brain_feature_thickness_by_lobes.loc[np.where(np.array(demo_info) == age)]\n",
    "    age_thickness_lobes_df.loc[age] = np.mean(by_age,axis = 0)"
   ]
  },
  {
   "cell_type": "code",
   "execution_count": 104,
   "metadata": {},
   "outputs": [
    {
     "data": {
      "image/png": "[encoded data removed]",
      "text/plain": [
       "<Figure size 2000x1000 with 4 Axes>"
      ]
     },
     "metadata": {},
     "output_type": "display_data"
    }
   ],
   "source": [
    "import matplotlib.pyplot as plt\n",
    "plt.figure(figsize=(20,10))\n",
    "for i in range(4):\n",
    "    plt.subplot(2,2,i+1)\n",
    "    plt.plot(age_thickness_lobes_df.iloc[:,i])\n",
    "    plt.grid(color='gray', linestyle='-', linewidth=0.5)\n",
    "    #plt.ylim(2.4,3.5)\n",
    "    plt.xlabel('age')\n",
    "    plt.ylabel(f'{age_thickness_lobes_df.columns[i]} thickness')"
   ]
  },
  {
   "cell_type": "markdown",
   "metadata": {},
   "source": [
    "## External data (eNKI)"
   ]
  },
  {
   "cell_type": "code",
   "execution_count": 48,
   "metadata": {},
   "outputs": [],
   "source": [
    "from monai.metrics import PSNRMetric,MSEMetric\n",
    "from monai.metrics.regression import SSIMMetric\n",
    "from monai.transforms import ScaleIntensityRangePercentiles\n"
   ]
  },
  {
   "cell_type": "code",
   "execution_count": 49,
   "metadata": {},
   "outputs": [],
   "source": [
    "transform = ScaleIntensityRangePercentiles(lower=0.0, upper=99.5, b_min=0.0, b_max=1, clip=False)"
   ]
  },
  {
   "cell_type": "code",
   "execution_count": 46,
   "metadata": {},
   "outputs": [
    {
     "name": "stderr",
     "output_type": "stream",
     "text": [
      "/tmp/ipykernel_49699/3004689276.py:39: FutureWarning: The behavior of DataFrame concatenation with empty or all-NA entries is deprecated. In a future version, this will no longer exclude empty or all-NA columns when determining the result dtypes. To retain the old behavior, exclude the relevant entries before the concat operation.\n",
      "  metric_df = pd.concat([metric_df,pd.DataFrame(np.zeros((1,6)),columns = metric_df.columns)],ignore_index = True)\n",
      "/tmp/ipykernel_49699/3004689276.py:40: FutureWarning: Setting an item of incompatible dtype is deprecated and will raise an error in a future version of pandas. Value 'T1w_age_17.386301040649414.nii.gz' has dtype incompatible with float64, please explicitly cast to a compatible dtype first.\n",
      "  metric_df.iloc[-1] = metric_list\n",
      "/tmp/ipykernel_49699/3004689276.py:40: FutureWarning: Setting an item of incompatible dtype is deprecated and will raise an error in a future version of pandas. Value 'T2' has dtype incompatible with float64, please explicitly cast to a compatible dtype first.\n",
      "  metric_df.iloc[-1] = metric_list\n",
      "/tmp/ipykernel_49699/3004689276.py:40: FutureWarning: Setting an item of incompatible dtype is deprecated and will raise an error in a future version of pandas. Value 'T1w_age_17.386301040649414.nii.gz' has dtype incompatible with float64, please explicitly cast to a compatible dtype first.\n",
      "  metric_df.iloc[-1] = metric_list\n"
     ]
    },
    {
     "name": "stdout",
     "output_type": "stream",
     "text": [
      "T1w_age_17.386301040649414.nii.gz PSNR: 27.36474806746926, SSIM: 0.8865529894828796, MSE: 0.009858711536323284\n",
      "T1w_age_19.391780853271484.nii.gz PSNR: 27.915425264335322, SSIM: 0.8937557339668274, MSE: 0.008754560852935021\n",
      "T1w_age_14.479452133178711.nii.gz PSNR: 27.82018806157309, SSIM: 0.8950141270955404, MSE: 0.008928109495969892\n",
      "T1w_age_11.339726448059082.nii.gz PSNR: 27.540951879124417, SSIM: 0.8957591652870178, MSE: 0.008717508250975335\n",
      "T1w_age_15.920547485351562.nii.gz PSNR: 27.727046146677015, SSIM: 0.8982926130294799, MSE: 0.008407831810203388\n",
      "T1w_age_15.832877159118652.nii.gz PSNR: 27.711137008421904, SSIM: 0.8970412214597067, MSE: 0.008444578099272718\n",
      "T1w_age_12.106849670410156.nii.gz PSNR: 27.674419631248693, SSIM: 0.8975984794752938, MSE: 0.008617912102802492\n",
      "T1w_age_16.7780818939209.nii.gz PSNR: 27.595717545743994, SSIM: 0.896143950521946, MSE: 0.008867226329327611\n",
      "T1w_age_13.545205116271973.nii.gz PSNR: 27.568625046869425, SSIM: 0.8949880401293436, MSE: 0.008692327488446209\n",
      "T1w_age_11.890411376953125.nii.gz PSNR: 27.315613166655236, SSIM: 0.8933979213237763, MSE: 0.008662378866773072\n",
      "T1w_age_12.331506729125977.nii.gz PSNR: 27.158128416005162, SSIM: 0.8923855532299388, MSE: 0.008705799658967905\n",
      "T1w_age_11.654794692993164.nii.gz PSNR: 27.216378765077632, SSIM: 0.8924353271722794, MSE: 0.008713816930784985\n",
      "T1w_age_12.186301231384277.nii.gz PSNR: 27.28441158158955, SSIM: 0.8923229850255526, MSE: 0.008673655652685087\n",
      "T1w_age_14.780821800231934.nii.gz PSNR: 27.340845748979714, SSIM: 0.8929379028933389, MSE: 0.008652131890169322\n",
      "T1w_age_12.046575546264648.nii.gz PSNR: 27.392178616170277, SSIM: 0.893637748559316, MSE: 0.008628825909301436\n",
      "T1w_age_14.287671089172363.nii.gz PSNR: 27.379072528245683, SSIM: 0.8936225473880768, MSE: 0.008626010201907317\n",
      "T1w_age_14.545205116271973.nii.gz PSNR: 27.427757160130767, SSIM: 0.893696500974543, MSE: 0.008581449696426643\n",
      "T1w_age_13.049315452575684.nii.gz PSNR: 27.404997708638074, SSIM: 0.8930511573950449, MSE: 0.008546251366386955\n",
      "T1w_age_16.876712799072266.nii.gz PSNR: 27.374598625236906, SSIM: 0.8924496267971239, MSE: 0.008590931564413406\n",
      "T1w_age_12.61917781829834.nii.gz PSNR: 27.356924213207378, SSIM: 0.8922308146953583, MSE: 0.008618365458150852\n",
      "T1w_age_15.076712608337402.nii.gz PSNR: 27.381425912216702, SSIM: 0.8923070203690302, MSE: 0.008625729823087073\n",
      "T1w_age_16.857534408569336.nii.gz PSNR: 27.366955146442137, SSIM: 0.8921677226370032, MSE: 0.008684342262171988\n",
      "T1w_age_11.786301612854004.nii.gz PSNR: 27.434125750409052, SSIM: 0.8927186623863552, MSE: 0.00860694041727826\n",
      "T1w_age_11.76986312866211.nii.gz PSNR: 27.426408943149053, SSIM: 0.8923597435156504, MSE: 0.008622026988190666\n",
      "T1w_age_17.043834686279297.nii.gz PSNR: 27.424656658361588, SSIM: 0.8922328853607178, MSE: 0.008669876539489989\n",
      "T1w_age_19.421916961669922.nii.gz PSNR: 27.352336371505096, SSIM: 0.8916242695771731, MSE: 0.008653180953766786\n",
      "T1w_age_16.663013458251953.nii.gz PSNR: 27.364001702939795, SSIM: 0.8916803311418604, MSE: 0.008673258677356918\n",
      "T1w_age_18.189041137695312.nii.gz PSNR: 27.371654917245277, SSIM: 0.8915942460298538, MSE: 0.008685686011617047\n",
      "T1w_age_16.6849308013916.nii.gz PSNR: 27.331305220850687, SSIM: 0.8908192433159927, MSE: 0.008687552245591448\n",
      "T1w_age_13.197259902954102.nii.gz PSNR: 27.333163303967975, SSIM: 0.8907235781351726, MSE: 0.008687575543100434\n",
      "T1w_age_11.065752983093262.nii.gz PSNR: 27.270236739761604, SSIM: 0.8904509486690644, MSE: 0.008654682936675191\n",
      "T1w_age_12.027397155761719.nii.gz PSNR: 27.287754069289914, SSIM: 0.8904690202325583, MSE: 0.008627322077212812\n",
      "T1w_age_14.306849479675293.nii.gz PSNR: 27.286175685093838, SSIM: 0.8904203808668888, MSE: 0.008668840877878892\n",
      "T1w_age_10.687671661376953.nii.gz PSNR: 27.301833857895407, SSIM: 0.8904187626698438, MSE: 0.008664925050609971\n",
      "T1w_age_14.98082160949707.nii.gz PSNR: 27.2770445430556, SSIM: 0.890123804977962, MSE: 0.008679481911210752\n",
      "T1w_age_16.832876205444336.nii.gz PSNR: 27.274127492853808, SSIM: 0.8901224550273683, MSE: 0.008673312214640249\n",
      "T1w_age_18.583560943603516.nii.gz PSNR: 27.26632933483959, SSIM: 0.8902848362922668, MSE: 0.008692182098043743\n",
      "T1w_age_16.03835678100586.nii.gz PSNR: 27.275898991694316, SSIM: 0.8901743653573488, MSE: 0.008698032579896292\n",
      "T1w_age_14.936985969543457.nii.gz PSNR: 27.231888375427427, SSIM: 0.8899773848362458, MSE: 0.008703636495151787\n",
      "T1w_age_15.747944831848145.nii.gz PSNR: 27.261669083305982, SSIM: 0.8901320040225983, MSE: 0.008679208299909114\n",
      "T1w_age_12.926027297973633.nii.gz PSNR: 27.254730186080423, SSIM: 0.8900675700932015, MSE: 0.00868513551438137\n",
      "T1w_age_11.106849670410156.nii.gz PSNR: 27.265245483796086, SSIM: 0.8902679653394789, MSE: 0.008682389704279895\n",
      "T1w_age_18.350685119628906.nii.gz PSNR: 27.254270137546342, SSIM: 0.8901313002719435, MSE: 0.008702575109190194\n",
      "T1w_age_16.638355255126953.nii.gz PSNR: 27.260372654461374, SSIM: 0.8899954801256006, MSE: 0.008720844251657277\n",
      "T1w_age_13.961644172668457.nii.gz PSNR: 27.275768334528628, SSIM: 0.8901327358351814, MSE: 0.008718369586962291\n",
      "T1w_age_14.24383544921875.nii.gz PSNR: 27.281318482620303, SSIM: 0.890461398207623, MSE: 0.008719246177632485\n",
      "T1w_age_16.75068473815918.nii.gz PSNR: 27.278970654504747, SSIM: 0.8903225875915365, MSE: 0.008716848501836532\n",
      "T1w_age_13.11780834197998.nii.gz PSNR: 27.279390229671296, SSIM: 0.8904860926171144, MSE: 0.008721497573777319\n",
      "T1w_age_17.569862365722656.nii.gz PSNR: 27.308884530943896, SSIM: 0.8907958585388807, MSE: 0.00869061633406697\n",
      "T1w_age_16.186302185058594.nii.gz PSNR: 27.348597073540294, SSIM: 0.891197612285614, MSE: 0.008643240894744348\n",
      "T1w_age_18.720548629760742.nii.gz PSNR: 27.360064838855845, SSIM: 0.8913169035724565, MSE: 0.008643347476375938\n",
      "T1w_age_11.531506538391113.nii.gz PSNR: 27.349523995288163, SSIM: 0.891238075036269, MSE: 0.008649271259331733\n"
     ]
    }
   ],
   "source": [
    "import numpy as np\n",
    "import pandas as pd\n",
    "import nibabel as nib\n",
    "import torch\n",
    "import os\n",
    "\n",
    "\n",
    "\n",
    "output_dir = 'output_eNKI/subjects_eNKI_reg'\n",
    "original_dir = 'subjects_eNKI'\n",
    "pred = False\n",
    "metric_df = pd.DataFrame(columns = ['subject_id','original_modality','target_modality','PSNR','SSIM','MSE'])\n",
    "pnsr_list = []\n",
    "ssim_list = []\n",
    "MSE_list = []\n",
    "\n",
    "for root, dir, files in os.walk(output_dir):\n",
    "    for f in files:\n",
    "        if ('T1w' in f) & ('.nii.gz' in f):\n",
    "            true_f = os.path.join(root,f).replace(output_dir, original_dir).split('_reg')[0] + '.nii.gz'\n",
    "            true_f.replace('V2','V4')\n",
    "            pred = nib.load(os.path.join(root,f)).get_fdata()[:,:,:,0]\n",
    "            pred = torch.tensor(pred).unsqueeze(0)\n",
    "            true = nib.load(true_f).get_fdata()\n",
    "            true = torch.tensor(true).unsqueeze(0)\n",
    "            true = transform(true)\n",
    "\n",
    "            pnsr_metric = PSNRMetric(torch.max(true))\n",
    "            ssim_metric = SSIMMetric(3,torch.max(true))\n",
    "            mse_metric = MSEMetric()\n",
    "    \n",
    "            pnsr = pnsr_metric(true.unsqueeze(0),pred.unsqueeze(0))\n",
    "            ssim = ssim_metric(true.unsqueeze(0),pred.unsqueeze(0))\n",
    "            mse = mse_metric(true.unsqueeze(0),pred.unsqueeze(0))\n",
    "            pnsr_list.append(pnsr.item())\n",
    "            ssim_list.append(ssim.item())\n",
    "            MSE_list.append(mse.item())\n",
    "            metric_list = [f,'T1' if 'T2' in f else 'T2',f,pnsr.item(),ssim.item(),mse.item()]\n",
    "            metric_df = pd.concat([metric_df,pd.DataFrame(np.zeros((1,6)),columns = metric_df.columns)],ignore_index = True)\n",
    "            metric_df.iloc[-1] = metric_list\n",
    "            print(f'{f} PSNR: {np.mean(pnsr_list)}, SSIM: {np.mean(ssim_list)}, MSE: {np.mean(MSE_list)}')\n",
    "            \n",
    "\n"
   ]
  },
  {
   "cell_type": "code",
   "execution_count": 50,
   "metadata": {},
   "outputs": [
    {
     "data": {
      "text/html": [
       "<div>\n",
       "<style scoped>\n",
       "    .dataframe tbody tr th:only-of-type {\n",
       "        vertical-align: middle;\n",
       "    }\n",
       "\n",
       "    .dataframe tbody tr th {\n",
       "        vertical-align: top;\n",
       "    }\n",
       "\n",
       "    .dataframe thead th {\n",
       "        text-align: right;\n",
       "    }\n",
       "</style>\n",
       "<table border=\"1\" class=\"dataframe\">\n",
       "  <thead>\n",
       "    <tr style=\"text-align: right;\">\n",
       "      <th></th>\n",
       "      <th>PSNR</th>\n",
       "      <th>SSIM</th>\n",
       "      <th>MSE</th>\n",
       "    </tr>\n",
       "    <tr>\n",
       "      <th>target_modality</th>\n",
       "      <th></th>\n",
       "      <th></th>\n",
       "      <th></th>\n",
       "    </tr>\n",
       "  </thead>\n",
       "  <tbody>\n",
       "    <tr>\n",
       "      <th>T1</th>\n",
       "      <td>27.349524</td>\n",
       "      <td>0.891238</td>\n",
       "      <td>0.008649</td>\n",
       "    </tr>\n",
       "  </tbody>\n",
       "</table>\n",
       "</div>"
      ],
      "text/plain": [
       "                      PSNR      SSIM       MSE\n",
       "target_modality                               \n",
       "T1               27.349524  0.891238  0.008649"
      ]
     },
     "execution_count": 50,
     "metadata": {},
     "output_type": "execute_result"
    }
   ],
   "source": [
    "metric_df['target_modality'] = metric_df['target_modality'].apply(lambda x: 'T1' if 'T1' in x else 'T2')\n",
    "metric_df.groupby(['target_modality'])[['PSNR','SSIM','MSE']].mean()"
   ]
  },
  {
   "cell_type": "code",
   "execution_count": 54,
   "metadata": {},
   "outputs": [
    {
     "data": {
      "text/html": [
       "<div>\n",
       "<style scoped>\n",
       "    .dataframe tbody tr th:only-of-type {\n",
       "        vertical-align: middle;\n",
       "    }\n",
       "\n",
       "    .dataframe tbody tr th {\n",
       "        vertical-align: top;\n",
       "    }\n",
       "\n",
       "    .dataframe thead th {\n",
       "        text-align: right;\n",
       "    }\n",
       "</style>\n",
       "<table border=\"1\" class=\"dataframe\">\n",
       "  <thead>\n",
       "    <tr style=\"text-align: right;\">\n",
       "      <th></th>\n",
       "      <th>PSNR</th>\n",
       "      <th>SSIM</th>\n",
       "      <th>MSE</th>\n",
       "    </tr>\n",
       "    <tr>\n",
       "      <th>target_modality</th>\n",
       "      <th></th>\n",
       "      <th></th>\n",
       "      <th></th>\n",
       "    </tr>\n",
       "  </thead>\n",
       "  <tbody>\n",
       "    <tr>\n",
       "      <th>T1</th>\n",
       "      <td>27.35±0.88</td>\n",
       "      <td>0.891±0.009</td>\n",
       "      <td>0.009±0.001</td>\n",
       "    </tr>\n",
       "  </tbody>\n",
       "</table>\n",
       "</div>"
      ],
      "text/plain": [
       "                       PSNR         SSIM          MSE\n",
       "target_modality                                      \n",
       "T1               27.35±0.88  0.891±0.009  0.009±0.001"
      ]
     },
     "execution_count": 54,
     "metadata": {},
     "output_type": "execute_result"
    }
   ],
   "source": [
    "metric_table = metric_df.groupby(['target_modality'])[['PSNR','SSIM','MSE']].mean()\n",
    "metric_table.round(3).astype(str) + '±' + metric_df.groupby(['target_modality'])[['PSNR','SSIM','MSE']].std().round(3).astype(str)"
   ]
  },
  {
   "cell_type": "markdown",
   "metadata": {},
   "source": [
    "## Evaluating modality transfer"
   ]
  },
  {
   "cell_type": "code",
   "execution_count": 50,
   "metadata": {},
   "outputs": [],
   "source": [
    "from scripts.utils import inference_sample,dataloader,cleanup_DDP_checkpoint,parse_train_files,transformation\n",
    "from scripts.utils import load_config\n",
    "import torch\n",
    "from tqdm import tqdm\n",
    "import numpy as np\n",
    "import pandas as pd\n",
    "import pickle\n",
    "import warnings\n",
    "warnings.filterwarnings(\"ignore\")\n",
    "train_files = parse_train_files('./subjects/subjects.txt')\n",
    "batch_size = 1\n",
    "infer_dl = dataloader(train_files,batch_size=batch_size,device='cuda',cache_rate=0.0,num_workers=10)"
   ]
  },
  {
   "cell_type": "code",
   "execution_count": 51,
   "metadata": {},
   "outputs": [],
   "source": [
    "args = load_config(\"config.json\")"
   ]
  },
  {
   "cell_type": "code",
   "execution_count": 52,
   "metadata": {},
   "outputs": [],
   "source": [
    "from scripts.models import load_vae_gan,load_unet,load_control_net\n",
    "from monai.networks.schedulers import PNDMScheduler\n",
    "autoencoder = load_vae_gan().to(args.device).eval()\n",
    "controlnet = load_control_net().to(args.device).eval()\n",
    "unet = load_unet().to(args.device).eval()\n",
    "## cleanup DDP checkpoint, we saved model with DDP\n",
    "autoencoder = cleanup_DDP_checkpoint(autoencoder, args.trained_vae_gan_path)\n",
    "unet = cleanup_DDP_checkpoint(unet, args.trained_diffusion_path)\n",
    "controlnet = cleanup_DDP_checkpoint(controlnet, args.trained_controlnet_path)\n",
    "noise_scheduler = PNDMScheduler(num_train_timesteps = 1000)"
   ]
  },
  {
   "cell_type": "code",
   "execution_count": 53,
   "metadata": {},
   "outputs": [],
   "source": [
    "def encode(image,autoencoder):\n",
    "    latent = autoencoder.encode_stage_2_inputs(image)\n",
    "    return latent\n",
    "\n",
    "def decode(latent,autoencoder):\n",
    "    ## because of vram issue, we decode image separately by batch\n",
    "    image = torch.zeros((latent.shape[0],1,256,256,256)).to(latent.device)\n",
    "    for i in range(latent.shape[0]):\n",
    "        image[i] = autoencoder.decode_stage_2_outputs(latent[i].unsqueeze(0))\n",
    "    return image"
   ]
  },
  {
   "cell_type": "code",
   "execution_count": 54,
   "metadata": {},
   "outputs": [],
   "source": [
    "metric_df = pd.DataFrame(columns = ['subject_id','original_modality','target_modality','PSNR','SSIM','MSE'])\n",
    "pnsr_list = []\n",
    "ssim_list = []\n",
    "MSE_list = []"
   ]
  },
  {
   "cell_type": "code",
   "execution_count": 55,
   "metadata": {},
   "outputs": [
    {
     "name": "stderr",
     "output_type": "stream",
     "text": [
      " 84%|████████▍ | 670/794 [12:16:55<2:14:28, 65.07s/it, PSNR=23.1, SSIM=0.908, MSE=0.0118]Exception in thread Thread-8 (enqueue_values):\n",
      "Traceback (most recent call last):\n",
      "  File \"/home/hkkim/.conda/envs/controlnet/lib/python3.10/site-packages/nibabel/loadsave.py\", line 101, in load\n",
      "    stat_result = os.stat(filename)\n",
      "NotADirectoryError: [Errno 20] Not a directory: 'subjects/HCP/348545/T1w_restore_brain.nii.gz'\n",
      "\n",
      "During handling of the above exception, another exception occurred:\n",
      "\n",
      "Traceback (most recent call last):\n",
      "  File \"/home/hkkim/.conda/envs/controlnet/lib/python3.10/site-packages/monai/transforms/transform.py\", line 141, in apply_transform\n",
      "    return _apply_transform(transform, data, unpack_items, lazy, overrides, log_stats)\n",
      "  File \"/home/hkkim/.conda/envs/controlnet/lib/python3.10/site-packages/monai/transforms/transform.py\", line 98, in _apply_transform\n",
      "    return transform(data, lazy=lazy) if isinstance(transform, LazyTrait) else transform(data)\n",
      "  File \"/home/hkkim/.conda/envs/controlnet/lib/python3.10/site-packages/monai/transforms/io/dictionary.py\", line 163, in __call__\n",
      "    data = self._loader(d[key], reader)\n",
      "  File \"/home/hkkim/.conda/envs/controlnet/lib/python3.10/site-packages/monai/transforms/io/array.py\", line 264, in __call__\n",
      "    img = reader.read(filename)\n",
      "  File \"/home/hkkim/.conda/envs/controlnet/lib/python3.10/site-packages/monai/data/image_reader.py\", line 922, in read\n",
      "    img = nib.load(name, **kwargs_)\n",
      "  File \"/home/hkkim/.conda/envs/controlnet/lib/python3.10/site-packages/nibabel/loadsave.py\", line 103, in load\n",
      "    raise FileNotFoundError(f\"No such file or no access: '{filename}'\")\n",
      "FileNotFoundError: No such file or no access: 'subjects/HCP/348545/T1w_restore_brain.nii.gz'\n",
      "\n",
      "The above exception was the direct cause of the following exception:\n",
      "\n",
      "Traceback (most recent call last):\n",
      "  File \"/home/hkkim/.conda/envs/controlnet/lib/python3.10/threading.py\", line 1009, in _bootstrap_inner\n",
      "    self.run()\n",
      "  File \"/home/hkkim/.conda/envs/controlnet/lib/python3.10/site-packages/ipykernel/ipkernel.py\", line 766, in run_closure\n",
      "    _threading_Thread_run(self)\n",
      "  File \"/home/hkkim/.conda/envs/controlnet/lib/python3.10/threading.py\", line 946, in run\n",
      "    self._target(*self._args, **self._kwargs)\n",
      "  File \"/home/hkkim/.conda/envs/controlnet/lib/python3.10/site-packages/monai/data/thread_buffer.py\", line 49, in enqueue_values\n",
      "    for src_val in self.src:\n",
      "  File \"/home/hkkim/.conda/envs/controlnet/lib/python3.10/site-packages/torch/utils/data/dataloader.py\", line 708, in __next__\n",
      "    data = self._next_data()\n",
      "  File \"/home/hkkim/.conda/envs/controlnet/lib/python3.10/site-packages/torch/utils/data/dataloader.py\", line 764, in _next_data\n",
      "    data = self._dataset_fetcher.fetch(index)  # may raise StopIteration\n",
      "  File \"/home/hkkim/.conda/envs/controlnet/lib/python3.10/site-packages/torch/utils/data/_utils/fetch.py\", line 52, in fetch\n",
      "    data = [self.dataset[idx] for idx in possibly_batched_index]\n",
      "  File \"/home/hkkim/.conda/envs/controlnet/lib/python3.10/site-packages/torch/utils/data/_utils/fetch.py\", line 52, in <listcomp>\n",
      "    data = [self.dataset[idx] for idx in possibly_batched_index]\n",
      "  File \"/home/hkkim/.conda/envs/controlnet/lib/python3.10/site-packages/monai/data/dataset.py\", line 108, in __getitem__\n",
      "    return self._transform(index)\n",
      "  File \"/home/hkkim/.conda/envs/controlnet/lib/python3.10/site-packages/monai/data/dataset.py\", line 896, in _transform\n",
      "    return super()._transform(index)\n",
      "  File \"/home/hkkim/.conda/envs/controlnet/lib/python3.10/site-packages/monai/data/dataset.py\", line 94, in _transform\n",
      "    return self.transform(data_i)\n",
      "  File \"/home/hkkim/.conda/envs/controlnet/lib/python3.10/site-packages/monai/transforms/compose.py\", line 335, in __call__\n",
      "    result = execute_compose(\n",
      "  File \"/home/hkkim/.conda/envs/controlnet/lib/python3.10/site-packages/monai/transforms/compose.py\", line 111, in execute_compose\n",
      "    data = apply_transform(\n",
      "  File \"/home/hkkim/.conda/envs/controlnet/lib/python3.10/site-packages/monai/transforms/transform.py\", line 171, in apply_transform\n",
      "    raise RuntimeError(f\"applying transform {transform}\") from e\n",
      "RuntimeError: applying transform <monai.transforms.io.dictionary.LoadImaged object at 0x7f38fb9a86d0>\n",
      " 84%|████████▍ | 670/794 [12:16:55<2:16:23, 65.99s/it, PSNR=23.1, SSIM=0.908, MSE=0.0118]\n"
     ]
    },
    {
     "ename": "RuntimeError",
     "evalue": "applying transform <monai.transforms.io.dictionary.LoadImaged object at 0x7f38f06683a0>",
     "output_type": "error",
     "traceback": [
      "\u001b[0;31m---------------------------------------------------------------------------\u001b[0m",
      "\u001b[0;31mNotADirectoryError\u001b[0m                        Traceback (most recent call last)",
      "File \u001b[0;32m~/.conda/envs/controlnet/lib/python3.10/site-packages/nibabel/loadsave.py:101\u001b[0m, in \u001b[0;36mload\u001b[0;34m(filename, **kwargs)\u001b[0m\n\u001b[1;32m    100\u001b[0m \u001b[38;5;28;01mtry\u001b[39;00m:\n\u001b[0;32m--> 101\u001b[0m     stat_result \u001b[38;5;241m=\u001b[39m \u001b[43mos\u001b[49m\u001b[38;5;241;43m.\u001b[39;49m\u001b[43mstat\u001b[49m\u001b[43m(\u001b[49m\u001b[43mfilename\u001b[49m\u001b[43m)\u001b[49m\n\u001b[1;32m    102\u001b[0m \u001b[38;5;28;01mexcept\u001b[39;00m \u001b[38;5;167;01mOSError\u001b[39;00m:\n",
      "\u001b[0;31mNotADirectoryError\u001b[0m: [Errno 20] Not a directory: 'subjects/HCP_d/HCD0571649_V1_MR/T1w_restore_brain.nii.gz'",
      "\nDuring handling of the above exception, another exception occurred:\n",
      "\u001b[0;31mFileNotFoundError\u001b[0m                         Traceback (most recent call last)",
      "File \u001b[0;32m~/.conda/envs/controlnet/lib/python3.10/site-packages/monai/transforms/transform.py:140\u001b[0m, in \u001b[0;36mapply_transform\u001b[0;34m(transform, data, map_items, unpack_items, log_stats, lazy, overrides)\u001b[0m\n\u001b[1;32m    139\u001b[0m \u001b[38;5;28;01mif\u001b[39;00m \u001b[38;5;28misinstance\u001b[39m(data, (\u001b[38;5;28mlist\u001b[39m, \u001b[38;5;28mtuple\u001b[39m)) \u001b[38;5;129;01mand\u001b[39;00m map_items:\n\u001b[0;32m--> 140\u001b[0m     \u001b[38;5;28;01mreturn\u001b[39;00m [_apply_transform(transform, item, unpack_items, lazy, overrides, log_stats) \u001b[38;5;28;01mfor\u001b[39;00m item \u001b[38;5;129;01min\u001b[39;00m data]\n\u001b[1;32m    141\u001b[0m \u001b[38;5;28;01mreturn\u001b[39;00m _apply_transform(transform, data, unpack_items, lazy, overrides, log_stats)\n",
      "File \u001b[0;32m~/.conda/envs/controlnet/lib/python3.10/site-packages/monai/transforms/transform.py:140\u001b[0m, in \u001b[0;36m<listcomp>\u001b[0;34m(.0)\u001b[0m\n\u001b[1;32m    139\u001b[0m \u001b[38;5;28;01mif\u001b[39;00m \u001b[38;5;28misinstance\u001b[39m(data, (\u001b[38;5;28mlist\u001b[39m, \u001b[38;5;28mtuple\u001b[39m)) \u001b[38;5;129;01mand\u001b[39;00m map_items:\n\u001b[0;32m--> 140\u001b[0m     \u001b[38;5;28;01mreturn\u001b[39;00m [\u001b[43m_apply_transform\u001b[49m\u001b[43m(\u001b[49m\u001b[43mtransform\u001b[49m\u001b[43m,\u001b[49m\u001b[43m \u001b[49m\u001b[43mitem\u001b[49m\u001b[43m,\u001b[49m\u001b[43m \u001b[49m\u001b[43munpack_items\u001b[49m\u001b[43m,\u001b[49m\u001b[43m \u001b[49m\u001b[43mlazy\u001b[49m\u001b[43m,\u001b[49m\u001b[43m \u001b[49m\u001b[43moverrides\u001b[49m\u001b[43m,\u001b[49m\u001b[43m \u001b[49m\u001b[43mlog_stats\u001b[49m\u001b[43m)\u001b[49m \u001b[38;5;28;01mfor\u001b[39;00m item \u001b[38;5;129;01min\u001b[39;00m data]\n\u001b[1;32m    141\u001b[0m \u001b[38;5;28;01mreturn\u001b[39;00m _apply_transform(transform, data, unpack_items, lazy, overrides, log_stats)\n",
      "File \u001b[0;32m~/.conda/envs/controlnet/lib/python3.10/site-packages/monai/transforms/transform.py:98\u001b[0m, in \u001b[0;36m_apply_transform\u001b[0;34m(transform, data, unpack_parameters, lazy, overrides, logger_name)\u001b[0m\n\u001b[1;32m     96\u001b[0m     \u001b[38;5;28;01mreturn\u001b[39;00m transform(\u001b[38;5;241m*\u001b[39mdata, lazy\u001b[38;5;241m=\u001b[39mlazy) \u001b[38;5;28;01mif\u001b[39;00m \u001b[38;5;28misinstance\u001b[39m(transform, LazyTrait) \u001b[38;5;28;01melse\u001b[39;00m transform(\u001b[38;5;241m*\u001b[39mdata)\n\u001b[0;32m---> 98\u001b[0m \u001b[38;5;28;01mreturn\u001b[39;00m transform(data, lazy\u001b[38;5;241m=\u001b[39mlazy) \u001b[38;5;28;01mif\u001b[39;00m \u001b[38;5;28misinstance\u001b[39m(transform, LazyTrait) \u001b[38;5;28;01melse\u001b[39;00m \u001b[43mtransform\u001b[49m\u001b[43m(\u001b[49m\u001b[43mdata\u001b[49m\u001b[43m)\u001b[49m\n",
      "File \u001b[0;32m~/.conda/envs/controlnet/lib/python3.10/site-packages/monai/transforms/io/dictionary.py:163\u001b[0m, in \u001b[0;36mLoadImaged.__call__\u001b[0;34m(self, data, reader)\u001b[0m\n\u001b[1;32m    162\u001b[0m \u001b[38;5;28;01mfor\u001b[39;00m key, meta_key, meta_key_postfix \u001b[38;5;129;01min\u001b[39;00m \u001b[38;5;28mself\u001b[39m\u001b[38;5;241m.\u001b[39mkey_iterator(d, \u001b[38;5;28mself\u001b[39m\u001b[38;5;241m.\u001b[39mmeta_keys, \u001b[38;5;28mself\u001b[39m\u001b[38;5;241m.\u001b[39mmeta_key_postfix):\n\u001b[0;32m--> 163\u001b[0m     data \u001b[38;5;241m=\u001b[39m \u001b[38;5;28;43mself\u001b[39;49m\u001b[38;5;241;43m.\u001b[39;49m\u001b[43m_loader\u001b[49m\u001b[43m(\u001b[49m\u001b[43md\u001b[49m\u001b[43m[\u001b[49m\u001b[43mkey\u001b[49m\u001b[43m]\u001b[49m\u001b[43m,\u001b[49m\u001b[43m \u001b[49m\u001b[43mreader\u001b[49m\u001b[43m)\u001b[49m\n\u001b[1;32m    164\u001b[0m     \u001b[38;5;28;01mif\u001b[39;00m \u001b[38;5;28mself\u001b[39m\u001b[38;5;241m.\u001b[39m_loader\u001b[38;5;241m.\u001b[39mimage_only:\n",
      "File \u001b[0;32m~/.conda/envs/controlnet/lib/python3.10/site-packages/monai/transforms/io/array.py:264\u001b[0m, in \u001b[0;36mLoadImage.__call__\u001b[0;34m(self, filename, reader)\u001b[0m\n\u001b[1;32m    263\u001b[0m \u001b[38;5;28;01mif\u001b[39;00m reader\u001b[38;5;241m.\u001b[39mverify_suffix(filename):\n\u001b[0;32m--> 264\u001b[0m     img \u001b[38;5;241m=\u001b[39m \u001b[43mreader\u001b[49m\u001b[38;5;241;43m.\u001b[39;49m\u001b[43mread\u001b[49m\u001b[43m(\u001b[49m\u001b[43mfilename\u001b[49m\u001b[43m)\u001b[49m\n\u001b[1;32m    265\u001b[0m     \u001b[38;5;28;01mbreak\u001b[39;00m\n",
      "File \u001b[0;32m~/.conda/envs/controlnet/lib/python3.10/site-packages/monai/data/image_reader.py:922\u001b[0m, in \u001b[0;36mNibabelReader.read\u001b[0;34m(self, data, **kwargs)\u001b[0m\n\u001b[1;32m    921\u001b[0m \u001b[38;5;28;01mfor\u001b[39;00m name \u001b[38;5;129;01min\u001b[39;00m filenames:\n\u001b[0;32m--> 922\u001b[0m     img \u001b[38;5;241m=\u001b[39m \u001b[43mnib\u001b[49m\u001b[38;5;241;43m.\u001b[39;49m\u001b[43mload\u001b[49m\u001b[43m(\u001b[49m\u001b[43mname\u001b[49m\u001b[43m,\u001b[49m\u001b[43m \u001b[49m\u001b[38;5;241;43m*\u001b[39;49m\u001b[38;5;241;43m*\u001b[39;49m\u001b[43mkwargs_\u001b[49m\u001b[43m)\u001b[49m\n\u001b[1;32m    923\u001b[0m     img \u001b[38;5;241m=\u001b[39m correct_nifti_header_if_necessary(img)\n",
      "File \u001b[0;32m~/.conda/envs/controlnet/lib/python3.10/site-packages/nibabel/loadsave.py:103\u001b[0m, in \u001b[0;36mload\u001b[0;34m(filename, **kwargs)\u001b[0m\n\u001b[1;32m    102\u001b[0m \u001b[38;5;28;01mexcept\u001b[39;00m \u001b[38;5;167;01mOSError\u001b[39;00m:\n\u001b[0;32m--> 103\u001b[0m     \u001b[38;5;28;01mraise\u001b[39;00m \u001b[38;5;167;01mFileNotFoundError\u001b[39;00m(\u001b[38;5;124mf\u001b[39m\u001b[38;5;124m\"\u001b[39m\u001b[38;5;124mNo such file or no access: \u001b[39m\u001b[38;5;124m'\u001b[39m\u001b[38;5;132;01m{\u001b[39;00mfilename\u001b[38;5;132;01m}\u001b[39;00m\u001b[38;5;124m'\u001b[39m\u001b[38;5;124m\"\u001b[39m)\n\u001b[1;32m    104\u001b[0m \u001b[38;5;28;01mif\u001b[39;00m stat_result\u001b[38;5;241m.\u001b[39mst_size \u001b[38;5;241m<\u001b[39m\u001b[38;5;241m=\u001b[39m \u001b[38;5;241m0\u001b[39m:\n",
      "\u001b[0;31mFileNotFoundError\u001b[0m: No such file or no access: 'subjects/HCP_d/HCD0571649_V1_MR/T1w_restore_brain.nii.gz'",
      "\nThe above exception was the direct cause of the following exception:\n",
      "\u001b[0;31mRuntimeError\u001b[0m                              Traceback (most recent call last)",
      "Cell \u001b[0;32mIn[55], line 5\u001b[0m\n\u001b[1;32m      3\u001b[0m \u001b[38;5;28;01mfor\u001b[39;00m batch \u001b[38;5;129;01min\u001b[39;00m pbar:\n\u001b[1;32m      4\u001b[0m     y_path \u001b[38;5;241m=\u001b[39m [{\u001b[38;5;124m'\u001b[39m\u001b[38;5;124mimage\u001b[39m\u001b[38;5;124m'\u001b[39m:p\u001b[38;5;241m.\u001b[39mreplace(\u001b[38;5;124m'\u001b[39m\u001b[38;5;124mT1\u001b[39m\u001b[38;5;124m'\u001b[39m,\u001b[38;5;124m'\u001b[39m\u001b[38;5;124mT2\u001b[39m\u001b[38;5;124m'\u001b[39m)} \u001b[38;5;28;01mif\u001b[39;00m \u001b[38;5;124m'\u001b[39m\u001b[38;5;124mT1\u001b[39m\u001b[38;5;124m'\u001b[39m \u001b[38;5;129;01min\u001b[39;00m p \u001b[38;5;28;01melse\u001b[39;00m {\u001b[38;5;124m'\u001b[39m\u001b[38;5;124mimage\u001b[39m\u001b[38;5;124m'\u001b[39m:p\u001b[38;5;241m.\u001b[39mreplace(\u001b[38;5;124m'\u001b[39m\u001b[38;5;124mT2\u001b[39m\u001b[38;5;124m'\u001b[39m,\u001b[38;5;124m'\u001b[39m\u001b[38;5;124mT1\u001b[39m\u001b[38;5;124m'\u001b[39m)} \u001b[38;5;28;01mfor\u001b[39;00m p \u001b[38;5;129;01min\u001b[39;00m batch[\u001b[38;5;124m'\u001b[39m\u001b[38;5;124mimage_path\u001b[39m\u001b[38;5;124m'\u001b[39m]]\n\u001b[0;32m----> 5\u001b[0m     load_ \u001b[38;5;241m=\u001b[39m \u001b[43mtransformation\u001b[49m\u001b[43m(\u001b[49m\u001b[43my_path\u001b[49m\u001b[43m)\u001b[49m\n\u001b[1;32m      6\u001b[0m     y_datas \u001b[38;5;241m=\u001b[39m torch\u001b[38;5;241m.\u001b[39mvstack([load_[i][\u001b[38;5;124m'\u001b[39m\u001b[38;5;124mimage\u001b[39m\u001b[38;5;124m'\u001b[39m]\u001b[38;5;241m.\u001b[39munsqueeze(\u001b[38;5;241m0\u001b[39m) \u001b[38;5;28;01mfor\u001b[39;00m i \u001b[38;5;129;01min\u001b[39;00m \u001b[38;5;28mrange\u001b[39m(batch_size)])\u001b[38;5;241m.\u001b[39mto(args\u001b[38;5;241m.\u001b[39mdevice)\n\u001b[1;32m      7\u001b[0m     \u001b[38;5;66;03m## make synth_size as batch size, and we generate each age of synth_age\u001b[39;00m\n",
      "File \u001b[0;32m/camin1/hkkim/controlnet-infer/scripts/utils.py:156\u001b[0m, in \u001b[0;36mtransformation\u001b[0;34m(image)\u001b[0m\n",
      "File \u001b[0;32m~/.conda/envs/controlnet/lib/python3.10/site-packages/monai/transforms/compose.py:335\u001b[0m, in \u001b[0;36mCompose.__call__\u001b[0;34m(self, input_, start, end, threading, lazy)\u001b[0m\n\u001b[1;32m    333\u001b[0m \u001b[38;5;28;01mdef\u001b[39;00m\u001b[38;5;250m \u001b[39m\u001b[38;5;21m__call__\u001b[39m(\u001b[38;5;28mself\u001b[39m, input_, start\u001b[38;5;241m=\u001b[39m\u001b[38;5;241m0\u001b[39m, end\u001b[38;5;241m=\u001b[39m\u001b[38;5;28;01mNone\u001b[39;00m, threading\u001b[38;5;241m=\u001b[39m\u001b[38;5;28;01mFalse\u001b[39;00m, lazy: \u001b[38;5;28mbool\u001b[39m \u001b[38;5;241m|\u001b[39m \u001b[38;5;28;01mNone\u001b[39;00m \u001b[38;5;241m=\u001b[39m \u001b[38;5;28;01mNone\u001b[39;00m):\n\u001b[1;32m    334\u001b[0m     _lazy \u001b[38;5;241m=\u001b[39m \u001b[38;5;28mself\u001b[39m\u001b[38;5;241m.\u001b[39m_lazy \u001b[38;5;28;01mif\u001b[39;00m lazy \u001b[38;5;129;01mis\u001b[39;00m \u001b[38;5;28;01mNone\u001b[39;00m \u001b[38;5;28;01melse\u001b[39;00m lazy\n\u001b[0;32m--> 335\u001b[0m     result \u001b[38;5;241m=\u001b[39m \u001b[43mexecute_compose\u001b[49m\u001b[43m(\u001b[49m\n\u001b[1;32m    336\u001b[0m \u001b[43m        \u001b[49m\u001b[43minput_\u001b[49m\u001b[43m,\u001b[49m\n\u001b[1;32m    337\u001b[0m \u001b[43m        \u001b[49m\u001b[43mtransforms\u001b[49m\u001b[38;5;241;43m=\u001b[39;49m\u001b[38;5;28;43mself\u001b[39;49m\u001b[38;5;241;43m.\u001b[39;49m\u001b[43mtransforms\u001b[49m\u001b[43m,\u001b[49m\n\u001b[1;32m    338\u001b[0m \u001b[43m        \u001b[49m\u001b[43mstart\u001b[49m\u001b[38;5;241;43m=\u001b[39;49m\u001b[43mstart\u001b[49m\u001b[43m,\u001b[49m\n\u001b[1;32m    339\u001b[0m \u001b[43m        \u001b[49m\u001b[43mend\u001b[49m\u001b[38;5;241;43m=\u001b[39;49m\u001b[43mend\u001b[49m\u001b[43m,\u001b[49m\n\u001b[1;32m    340\u001b[0m \u001b[43m        \u001b[49m\u001b[43mmap_items\u001b[49m\u001b[38;5;241;43m=\u001b[39;49m\u001b[38;5;28;43mself\u001b[39;49m\u001b[38;5;241;43m.\u001b[39;49m\u001b[43mmap_items\u001b[49m\u001b[43m,\u001b[49m\n\u001b[1;32m    341\u001b[0m \u001b[43m        \u001b[49m\u001b[43munpack_items\u001b[49m\u001b[38;5;241;43m=\u001b[39;49m\u001b[38;5;28;43mself\u001b[39;49m\u001b[38;5;241;43m.\u001b[39;49m\u001b[43munpack_items\u001b[49m\u001b[43m,\u001b[49m\n\u001b[1;32m    342\u001b[0m \u001b[43m        \u001b[49m\u001b[43mlazy\u001b[49m\u001b[38;5;241;43m=\u001b[39;49m\u001b[43m_lazy\u001b[49m\u001b[43m,\u001b[49m\n\u001b[1;32m    343\u001b[0m \u001b[43m        \u001b[49m\u001b[43moverrides\u001b[49m\u001b[38;5;241;43m=\u001b[39;49m\u001b[38;5;28;43mself\u001b[39;49m\u001b[38;5;241;43m.\u001b[39;49m\u001b[43moverrides\u001b[49m\u001b[43m,\u001b[49m\n\u001b[1;32m    344\u001b[0m \u001b[43m        \u001b[49m\u001b[43mthreading\u001b[49m\u001b[38;5;241;43m=\u001b[39;49m\u001b[43mthreading\u001b[49m\u001b[43m,\u001b[49m\n\u001b[1;32m    345\u001b[0m \u001b[43m        \u001b[49m\u001b[43mlog_stats\u001b[49m\u001b[38;5;241;43m=\u001b[39;49m\u001b[38;5;28;43mself\u001b[39;49m\u001b[38;5;241;43m.\u001b[39;49m\u001b[43mlog_stats\u001b[49m\u001b[43m,\u001b[49m\n\u001b[1;32m    346\u001b[0m \u001b[43m    \u001b[49m\u001b[43m)\u001b[49m\n\u001b[1;32m    348\u001b[0m     \u001b[38;5;28;01mreturn\u001b[39;00m result\n",
      "File \u001b[0;32m~/.conda/envs/controlnet/lib/python3.10/site-packages/monai/transforms/compose.py:111\u001b[0m, in \u001b[0;36mexecute_compose\u001b[0;34m(data, transforms, map_items, unpack_items, start, end, lazy, overrides, threading, log_stats)\u001b[0m\n\u001b[1;32m    109\u001b[0m     \u001b[38;5;28;01mif\u001b[39;00m threading:\n\u001b[1;32m    110\u001b[0m         _transform \u001b[38;5;241m=\u001b[39m deepcopy(_transform) \u001b[38;5;28;01mif\u001b[39;00m \u001b[38;5;28misinstance\u001b[39m(_transform, ThreadUnsafe) \u001b[38;5;28;01melse\u001b[39;00m _transform\n\u001b[0;32m--> 111\u001b[0m     data \u001b[38;5;241m=\u001b[39m \u001b[43mapply_transform\u001b[49m\u001b[43m(\u001b[49m\n\u001b[1;32m    112\u001b[0m \u001b[43m        \u001b[49m\u001b[43m_transform\u001b[49m\u001b[43m,\u001b[49m\u001b[43m \u001b[49m\u001b[43mdata\u001b[49m\u001b[43m,\u001b[49m\u001b[43m \u001b[49m\u001b[43mmap_items\u001b[49m\u001b[43m,\u001b[49m\u001b[43m \u001b[49m\u001b[43munpack_items\u001b[49m\u001b[43m,\u001b[49m\u001b[43m \u001b[49m\u001b[43mlazy\u001b[49m\u001b[38;5;241;43m=\u001b[39;49m\u001b[43mlazy\u001b[49m\u001b[43m,\u001b[49m\u001b[43m \u001b[49m\u001b[43moverrides\u001b[49m\u001b[38;5;241;43m=\u001b[39;49m\u001b[43moverrides\u001b[49m\u001b[43m,\u001b[49m\u001b[43m \u001b[49m\u001b[43mlog_stats\u001b[49m\u001b[38;5;241;43m=\u001b[39;49m\u001b[43mlog_stats\u001b[49m\n\u001b[1;32m    113\u001b[0m \u001b[43m    \u001b[49m\u001b[43m)\u001b[49m\n\u001b[1;32m    114\u001b[0m data \u001b[38;5;241m=\u001b[39m apply_pending_transforms(data, \u001b[38;5;28;01mNone\u001b[39;00m, overrides, logger_name\u001b[38;5;241m=\u001b[39mlog_stats)\n\u001b[1;32m    115\u001b[0m \u001b[38;5;28;01mreturn\u001b[39;00m data\n",
      "File \u001b[0;32m~/.conda/envs/controlnet/lib/python3.10/site-packages/monai/transforms/transform.py:171\u001b[0m, in \u001b[0;36mapply_transform\u001b[0;34m(transform, data, map_items, unpack_items, log_stats, lazy, overrides)\u001b[0m\n\u001b[1;32m    169\u001b[0m     \u001b[38;5;28;01melse\u001b[39;00m:\n\u001b[1;32m    170\u001b[0m         _log_stats(data\u001b[38;5;241m=\u001b[39mdata)\n\u001b[0;32m--> 171\u001b[0m \u001b[38;5;28;01mraise\u001b[39;00m \u001b[38;5;167;01mRuntimeError\u001b[39;00m(\u001b[38;5;124mf\u001b[39m\u001b[38;5;124m\"\u001b[39m\u001b[38;5;124mapplying transform \u001b[39m\u001b[38;5;132;01m{\u001b[39;00mtransform\u001b[38;5;132;01m}\u001b[39;00m\u001b[38;5;124m\"\u001b[39m) \u001b[38;5;28;01mfrom\u001b[39;00m\u001b[38;5;250m \u001b[39m\u001b[38;5;21;01me\u001b[39;00m\n",
      "\u001b[0;31mRuntimeError\u001b[0m: applying transform <monai.transforms.io.dictionary.LoadImaged object at 0x7f38f06683a0>"
     ]
    }
   ],
   "source": [
    "with torch.no_grad(),torch.cuda.amp.autocast():\n",
    "    with tqdm(infer_dl) as pbar:\n",
    "        for batch in pbar:\n",
    "            y_path = [{'image':p.replace('T1','T2')} if 'T1' in p else {'image':p.replace('T2','T1')} for p in batch['image_path']]\n",
    "            load_ = transformation(y_path)\n",
    "            y_datas = torch.vstack([load_[i]['image'].unsqueeze(0) for i in range(batch_size)]).to(args.device)\n",
    "            ## make synth_size as batch size, and we generate each age of synth_age\n",
    "            image = batch['image'].to(args.device)\n",
    "            sex_tensor = batch['sex'].to(args.device)\n",
    "            modality_tensor = batch['modality'].to(args.device)\n",
    "            another_modality_tensor = 1- modality_tensor\n",
    "            age_tensor = torch.tensor(batch['age']).to(args.device) / 100\n",
    "            brain_mask = image > 0\n",
    "            \n",
    "            latent_output1 = inference_sample(sex_tensor,\n",
    "                    another_modality_tensor, ## modality tensor is about target modality\n",
    "                    age_tensor,\n",
    "                    controlnet,\n",
    "                    unet,\n",
    "                    image,\n",
    "                    noise_scheduler,\n",
    "                    inference_step=300,\n",
    "                    device = args.device,\n",
    "                    age_control=False)\n",
    "            output1 = decode(latent_output1,autoencoder)\n",
    "            output1 = output1 * brain_mask\n",
    "            \n",
    "            pnsr_metric = PSNRMetric(torch.max(y_datas))\n",
    "            ssim_metric = SSIMMetric(3,torch.max(y_datas))\n",
    "            mse_metric = MSEMetric()\n",
    "            \n",
    "            pnsr = pnsr_metric(y_datas,output1)\n",
    "            ssim = ssim_metric(y_datas,output1)\n",
    "            mse = mse_metric(y_datas,output1)\n",
    "            pnsr_list.append(pnsr.item())\n",
    "            ssim_list.append(ssim.item())\n",
    "            MSE_list.append(mse.item())\n",
    "            \n",
    "            path = batch['image_path'][0]\n",
    "            metric_list = [path,'T1' if 'T2' in path else 'T2',path.split('/')[-1],pnsr.item(),ssim.item(),mse.item()]\n",
    "            metric_df = pd.concat([metric_df,pd.DataFrame(np.zeros((1,6)),columns = metric_df.columns)],ignore_index = True)\n",
    "            metric_df.iloc[-1] = metric_list\n",
    "            \n",
    "            pbar.set_postfix({'PSNR':np.mean(pnsr_list),'SSIM':np.mean(ssim_list),'MSE':np.mean(MSE_list)})\n",
    "            \n",
    "with open('metric_df.pkl','wb') as f:\n",
    "    pickle.dump(metric_df,f)"
   ]
  },
  {
   "cell_type": "code",
   "execution_count": 203,
   "metadata": {},
   "outputs": [],
   "source": [
    "metric_df['target_modality'] = metric_df['target_modality'].apply(lambda x: 'T1' if 'T1' in x else 'T2')"
   ]
  },
  {
   "cell_type": "code",
   "execution_count": 204,
   "metadata": {},
   "outputs": [
    {
     "data": {
      "text/html": [
       "<div>\n",
       "<style scoped>\n",
       "    .dataframe tbody tr th:only-of-type {\n",
       "        vertical-align: middle;\n",
       "    }\n",
       "\n",
       "    .dataframe tbody tr th {\n",
       "        vertical-align: top;\n",
       "    }\n",
       "\n",
       "    .dataframe thead th {\n",
       "        text-align: right;\n",
       "    }\n",
       "</style>\n",
       "<table border=\"1\" class=\"dataframe\">\n",
       "  <thead>\n",
       "    <tr style=\"text-align: right;\">\n",
       "      <th></th>\n",
       "      <th></th>\n",
       "      <th>PSNR</th>\n",
       "      <th>SSIM</th>\n",
       "      <th>MSE</th>\n",
       "    </tr>\n",
       "    <tr>\n",
       "      <th>original_modality</th>\n",
       "      <th>target_modality</th>\n",
       "      <th></th>\n",
       "      <th></th>\n",
       "      <th></th>\n",
       "    </tr>\n",
       "  </thead>\n",
       "  <tbody>\n",
       "    <tr>\n",
       "      <th>T1</th>\n",
       "      <th>T2</th>\n",
       "      <td>23.784±2.817</td>\n",
       "      <td>0.922±0.013</td>\n",
       "      <td>0.011±0.005</td>\n",
       "    </tr>\n",
       "    <tr>\n",
       "      <th>T2</th>\n",
       "      <th>T1</th>\n",
       "      <td>21.924±1.708</td>\n",
       "      <td>0.897±0.009</td>\n",
       "      <td>0.013±0.005</td>\n",
       "    </tr>\n",
       "  </tbody>\n",
       "</table>\n",
       "</div>"
      ],
      "text/plain": [
       "                                           PSNR         SSIM          MSE\n",
       "original_modality target_modality                                        \n",
       "T1                T2               23.784±2.817  0.922±0.013  0.011±0.005\n",
       "T2                T1               21.924±1.708  0.897±0.009  0.013±0.005"
      ]
     },
     "execution_count": 204,
     "metadata": {},
     "output_type": "execute_result"
    }
   ],
   "source": [
    "metric_table = metric_df.groupby(['original_modality','target_modality'])[['PSNR','SSIM','MSE']].mean()\n",
    "metric_table.round(3).astype(str) + '±' + metric_df.groupby(['original_modality','target_modality'])[['PSNR','SSIM','MSE']].std().round(3).astype(str)"
   ]
  },
  {
   "cell_type": "code",
   "execution_count": 299,
   "metadata": {},
   "outputs": [
    {
     "name": "stdout",
     "output_type": "stream",
     "text": [
      "T1w_restore_brain.nii.gz\n",
      "T2w_restore_brain.nii.gz\n"
     ]
    }
   ],
   "source": [
    "import nibabel as nib\n",
    "import os\n",
    "import matplotlib.pyplot as plt\n",
    "import numpy as np\n",
    "\n",
    "sample_dir = '/camin1/hkkim/sample_for_'\n",
    "for root, dir, files in os.walk(sample_dir):\n",
    "    for f in files:\n",
    "        try:\n",
    "            file_nm = f\n",
    "            image = nib.load(os.path.join(root,f)).get_fdata()\n",
    "            sample_image = np.hstack([image[128,:,:],image[:,128,:],image[:,:,128]])\n",
    "            plt.imsave(file_nm.replace('nii.gz','png'),sample_image,cmap='gray')\n",
    "        except:\n",
    "            print(f)"
   ]
  },
  {
   "cell_type": "code",
   "execution_count": 295,
   "metadata": {},
   "outputs": [
    {
     "data": {
      "text/plain": [
       "(256, 768)"
      ]
     },
     "execution_count": 295,
     "metadata": {},
     "output_type": "execute_result"
    }
   ],
   "source": [
    "sample_image.shape"
   ]
  },
  {
   "cell_type": "code",
   "execution_count": 289,
   "metadata": {},
   "outputs": [],
   "source": [
    "sample_image = np.hstack([image[128,:,:],image[:,128,:],image[:,:,128]])"
   ]
  },
  {
   "cell_type": "code",
   "execution_count": null,
   "metadata": {},
   "outputs": [],
   "source": [
    "plt.imsave(file_nm,sample_image,cmap='gray')"
   ]
  },
  {
   "cell_type": "code",
   "execution_count": null,
   "metadata": {},
   "outputs": [],
   "source": []
  }
 ],
 "metadata": {
  "kernelspec": {
   "display_name": "Python 3",
   "language": "python",
   "name": "python3"
  },
  "language_info": {
   "codemirror_mode": {
    "name": "ipython",
    "version": 3
   },
   "file_extension": ".py",
   "mimetype": "text/x-python",
   "name": "python",
   "nbconvert_exporter": "python",
   "pygments_lexer": "ipython3",
   "version": "3.10.0"
  }
 },
 "nbformat": 4,
 "nbformat_minor": 2
}
