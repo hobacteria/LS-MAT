{
 "cells": [
  {
   "cell_type": "code",
   "execution_count": 251,
   "metadata": {},
   "outputs": [],
   "source": [
    "import sys\n",
    "sys.path.append('/camin1/hkkim/control-net/')\n",
    "from brainstat.datasets import fetch_mask, fetch_template_surface\n",
    "from brainstat.tutorial.utils import fetch_mics_data\n",
    "import numpy as np\n",
    "from scripts.io_mesh import load_mesh_data\n",
    "from brainspace.datasets import load_parcellation, load_conte69\n",
    "import nibabel as nib\n",
    "import os\n",
    "import pandas as pd\n",
    "import numpy as np\n",
    "from brainstat.datasets import fetch_mask, fetch_template_surface\n",
    "\n",
    "from brainspace.plotting import plot_hemispheres\n",
    "from brainspace.utils.parcellation import map_to_labels\n",
    "from tqdm import tqdm"
   ]
  },
  {
   "cell_type": "markdown",
   "metadata": {},
   "source": [
    "# Thickness"
   ]
  },
  {
   "cell_type": "code",
   "execution_count": 189,
   "metadata": {},
   "outputs": [],
   "source": [
    "[labels_lh, ctab_lh, names_lh] = nib.freesurfer.io.read_annot('./MPC/parcellations/lh.schaefer-300_mics.annot')\n",
    "[labels_rh, ctab_rh, names_rh] = nib.freesurfer.io.read_annot('./MPC/parcellations/rh.schaefer-300_mics.annot')\n"
   ]
  },
  {
   "cell_type": "code",
   "execution_count": 190,
   "metadata": {},
   "outputs": [],
   "source": [
    "label = load_parcellation('schaefer', scale=300, join=True)"
   ]
  },
  {
   "cell_type": "code",
   "execution_count": 191,
   "metadata": {},
   "outputs": [
    {
     "data": {
      "text/plain": [
       "0"
      ]
     },
     "execution_count": 191,
     "metadata": {},
     "output_type": "execute_result"
    }
   ],
   "source": [
    "os.system('cp -r /usr/local/freesurfer7/subjects/fsaverage5 ./')"
   ]
  },
  {
   "cell_type": "code",
   "execution_count": 192,
   "metadata": {},
   "outputs": [],
   "source": [
    "def fs_avg_5_mapping(src_sub, target_sub, hemi):\n",
    "    command = f'export SUBJECTS_DIR= ; \\\n",
    "    mri_surf2surf \\\n",
    "    --srcsubject {src_sub} \\\n",
    "    --sval thickness \\\n",
    "    --trgsubject {target_sub} \\\n",
    "    --tval fsaverage5.thickness \\\n",
    "    --hemi {hemi} \\\n",
    "    --surfreg sphere.reg \\\n",
    "    --src_type curv \\\n",
    "    --trg_type curv >/dev/null 2>&1'\n",
    "    \n",
    "\n",
    "\n",
    "    os.system('export SUBJECTS_DIR=/')\n",
    "    os.system(command)\n",
    "    os.system(f'mv /{target_sub}/surf/{hemi}.fsaverage5.thickness /{src_sub}/surf/{hemi}.fsaverage5.thickness')\n"
   ]
  },
  {
   "cell_type": "code",
   "execution_count": 193,
   "metadata": {},
   "outputs": [],
   "source": [
    "def get_complete_subject_list(root_path):\n",
    "    subjects = []\n",
    "    for sub in os.listdir(f'{root_path}'):\n",
    "        if os.path.exists(f'{root_path}/{sub}/label'):\n",
    "            if len(os.listdir(f'{root_path}/{sub}/label')) == 91:\n",
    "                if os.path.exists(f'{root_path}/{sub}/anat/surfaces/micro_profiles'):\n",
    "                    if len(os.listdir(f'{root_path}/{sub}/anat/surfaces/micro_profiles')) == 92:\n",
    "                        subjects.append(f'{root_path}/{sub}')\n",
    "    return subjects"
   ]
  },
  {
   "cell_type": "code",
   "execution_count": 194,
   "metadata": {},
   "outputs": [],
   "source": [
    "all_subjects = get_complete_subject_list('./surfaces')"
   ]
  },
  {
   "cell_type": "code",
   "execution_count": 195,
   "metadata": {},
   "outputs": [
    {
     "data": {
      "text/plain": [
       "236"
      ]
     },
     "execution_count": 195,
     "metadata": {},
     "output_type": "execute_result"
    }
   ],
   "source": [
    "len(all_subjects)"
   ]
  },
  {
   "cell_type": "code",
   "execution_count": 201,
   "metadata": {},
   "outputs": [
    {
     "name": "stderr",
     "output_type": "stream",
     "text": [
      "100%|██████████| 236/236 [28:52<00:00,  7.34s/it]\n"
     ]
    }
   ],
   "source": [
    "for subject in tqdm(all_subjects):\n",
    "    target_sub = os.path.abspath('./fsaverage5')\n",
    "    subject = os.path.abspath(subject)\n",
    "    for hemi in ['lh','rh']:\n",
    "        fs_avg_5_mapping(subject, target_sub, hemi)\n",
    "        "
   ]
  },
  {
   "cell_type": "code",
   "execution_count": 196,
   "metadata": {},
   "outputs": [],
   "source": [
    "## load fsaverage5 labels\n",
    "[labels_lh, ctab_lh, names_lh] = nib.freesurfer.io.read_annot('./MPC/parcellations/lh.schaefer-300_mics.annot', orig_ids=True)\n",
    "[labels_rh, ctab_rh, names_rh] = nib.freesurfer.io.read_annot('./MPC/parcellations/rh.schaefer-300_mics.annot', orig_ids=True)\n",
    "labels_rh = labels_rh.astype(int)\n",
    "labels_lh = labels_lh.astype(int)\n",
    "labels_rh = labels_rh\n",
    "fs5_labels = np.concatenate([labels_lh, labels_rh])"
   ]
  },
  {
   "cell_type": "code",
   "execution_count": 197,
   "metadata": {},
   "outputs": [],
   "source": [
    "parcLength = len(labels_lh)+len(labels_rh)\n",
    "parc = np.zeros((parcLength))\n",
    "for (x, _) in enumerate(labels_lh):\n",
    "    parc[x] = np.where(ctab_lh[:,4] == labels_lh[x])[0][0]\n",
    "for (x, _) in enumerate(labels_rh):\n",
    "    parc[x + len(labels_lh)] = np.where(ctab_rh[:,4] == labels_rh[x])[0][0] + len(ctab_lh)\n",
    "uparcel = np.unique(parc)"
   ]
  },
  {
   "cell_type": "code",
   "execution_count": 198,
   "metadata": {},
   "outputs": [],
   "source": [
    "schaefer_labels = load_parcellation('schaefer', scale=300, join=True)"
   ]
  },
  {
   "cell_type": "code",
   "execution_count": 199,
   "metadata": {},
   "outputs": [],
   "source": [
    "def get_fsa5_thickness(src_sub, labels = None):\n",
    "    thickness_lh = load_mesh_data(f'{src_sub}/surf/lh.fsaverage5.thickness').astype(float)\n",
    "    thickness_rh = load_mesh_data(f'{src_sub}/surf/rh.fsaverage5.thickness').astype(float)\n",
    "    thickness = np.concatenate([thickness_lh, thickness_rh])\n",
    "    if isinstance(labels, type(None)):\n",
    "        return thickness\n",
    "    else:\n",
    "        thickness = pd.DataFrame({'labels':labels, 'thickness':thickness}).groupby('labels').mean().sort_index()\n",
    "        thickness = thickness.to_numpy().reshape(-1) ## 300*1 thickness\n",
    "        return thickness"
   ]
  },
  {
   "cell_type": "code",
   "execution_count": 202,
   "metadata": {},
   "outputs": [
    {
     "name": "stderr",
     "output_type": "stream",
     "text": [
      "100%|██████████| 236/236 [00:03<00:00, 74.55it/s]\n"
     ]
    }
   ],
   "source": [
    "group_thickness = np.zeros((len(all_subjects),302))\n",
    "demo_info = [] ## syn age\n",
    "for (i, subject) in enumerate(tqdm(all_subjects)):\n",
    "    age = float(subject.split('_')[-1])\n",
    "    group_thickness[i] = get_fsa5_thickness(subject, parc)\n",
    "    demo_info.append(int(age))"
   ]
  },
  {
   "cell_type": "code",
   "execution_count": null,
   "metadata": {},
   "outputs": [],
   "source": []
  },
  {
   "cell_type": "code",
   "execution_count": 203,
   "metadata": {},
   "outputs": [],
   "source": [
    "brain_feature_thickness = pd.merge(pd.DataFrame(parc,columns = ['label']), pd.DataFrame(group_thickness).T, left_on=['label'], right_index=True)#.to_csv('/camin1/hkkim/control-net/custom/MPC/brain_feature_thickness.csv', index=False)\n",
    "label = brain_feature_thickness['label']\n",
    "brain_feature_thickness.drop('label', axis=1, inplace=True)"
   ]
  },
  {
   "cell_type": "code",
   "execution_count": 204,
   "metadata": {},
   "outputs": [],
   "source": [
    "brain_feature_thickness = brain_feature_thickness.T"
   ]
  },
  {
   "cell_type": "code",
   "execution_count": 205,
   "metadata": {},
   "outputs": [],
   "source": [
    "mask = np.asarray([0, int(len(uparcel)/2)])\n",
    "parc[parc == mask[0]] = 0\n",
    "parc[parc == mask[1]] = 0"
   ]
  },
  {
   "cell_type": "code",
   "execution_count": 120,
   "metadata": {},
   "outputs": [
    {
     "data": {
      "text/plain": [
       "array([  0, 151])"
      ]
     },
     "execution_count": 120,
     "metadata": {},
     "output_type": "execute_result"
    }
   ],
   "source": [
    "mask"
   ]
  },
  {
   "cell_type": "code",
   "execution_count": 206,
   "metadata": {},
   "outputs": [],
   "source": [
    "thickness_10 = np.mean(brain_feature_thickness.loc[np.where(np.array(demo_info) == 10)], axis=0)\n",
    "thickness_80 = np.mean(brain_feature_thickness.loc[np.where(np.array(demo_info) == 80)], axis=0)        \n"
   ]
  },
  {
   "cell_type": "code",
   "execution_count": 207,
   "metadata": {},
   "outputs": [],
   "source": [
    "thickness_delta = thickness_80 - thickness_10"
   ]
  },
  {
   "cell_type": "code",
   "execution_count": 208,
   "metadata": {},
   "outputs": [],
   "source": [
    "mask = schaefer_labels != 0\n",
    "mapped_thickness = map_to_labels(thickness_delta, schaefer_labels, mask=mask,\n",
    "                    fill=np.nan)"
   ]
  },
  {
   "cell_type": "code",
   "execution_count": 209,
   "metadata": {},
   "outputs": [],
   "source": [
    "surf_lh, surf_rh = load_conte69()"
   ]
  },
  {
   "cell_type": "code",
   "execution_count": 210,
   "metadata": {},
   "outputs": [],
   "source": [
    "group_thickness = pd.DataFrame(group_thickness)\n",
    "group_thickness['age'] = demo_info"
   ]
  },
  {
   "cell_type": "code",
   "execution_count": 211,
   "metadata": {},
   "outputs": [],
   "source": [
    "group_thickness.to_csv('group_thickness.csv')"
   ]
  },
  {
   "cell_type": "markdown",
   "metadata": {},
   "source": [
    "## Modeling"
   ]
  },
  {
   "cell_type": "code",
   "execution_count": 212,
   "metadata": {},
   "outputs": [],
   "source": [
    "from brainstat.stats.terms import FixedEffect\n",
    "from brainstat.stats.SLM import SLM\n"
   ]
  },
  {
   "cell_type": "code",
   "execution_count": 213,
   "metadata": {},
   "outputs": [],
   "source": [
    "model = FixedEffect(demo_info, \"AGE_AT_SCAN\")"
   ]
  },
  {
   "cell_type": "code",
   "execution_count": 214,
   "metadata": {},
   "outputs": [],
   "source": [
    "from brainspace.gradient import GradientMaps\n",
    "\n",
    "def get_grad_from_MPC(conn_matrix):\n",
    "    labeling = load_parcellation('schaefer', scale=300, join=True)\n",
    "    mask = labeling != 0\n",
    "    del_ls = np.where(conn_matrix.sum(0)==0)[0]\n",
    "    conn_matrix = np.delete(np.delete(conn_matrix, del_ls, axis=0), del_ls, axis=1)\n",
    "    grad_map = GradientMaps(n_components=10, random_state=None, approach='dm', kernel='normalized_angle',alignment='procrustes')\n",
    "    grad_map.fit(conn_matrix, sparsity=0.9)\n",
    "    grads = grad_map.gradients_.copy()\n",
    "    for idx in del_ls:\n",
    "        grads = np.insert(grads, idx, 0, axis=0)\n",
    "    gradients = map_to_labels(grads[:, 0], labeling, mask=mask,\n",
    "                        fill=np.nan).tolist()\n",
    "\n",
    "    return gradients,grads"
   ]
  },
  {
   "cell_type": "markdown",
   "metadata": {},
   "source": [
    "## Gradient"
   ]
  },
  {
   "cell_type": "code",
   "execution_count": 216,
   "metadata": {},
   "outputs": [],
   "source": [
    "gradient_features = np.zeros((len(all_subjects),302))\n",
    "i = 0\n",
    "for root in all_subjects:\n",
    "    sub_nm = root.split('/')[-1]\n",
    "    f = f'anat/surfaces/micro_profiles/{sub_nm}_space-fsaverage5_atlas-schaefer-300_desc-MPC.txt'\n",
    "    conn_matrix = np.loadtxt(os.path.join(root,f))\n",
    "    gradients,grads = get_grad_from_MPC(conn_matrix)\n",
    "    gradient_features[i] = grads[:,0]\n",
    "    i +=1"
   ]
  },
  {
   "cell_type": "code",
   "execution_count": 217,
   "metadata": {},
   "outputs": [],
   "source": [
    "gradient_features_df = pd.DataFrame(gradient_features)\n",
    "gradient_features_df['age'] = demo_info"
   ]
  },
  {
   "cell_type": "code",
   "execution_count": 218,
   "metadata": {},
   "outputs": [],
   "source": [
    "gradient_features_df.to_csv('brain_gradient_for_modeling.csv',index = False)"
   ]
  },
  {
   "cell_type": "markdown",
   "metadata": {},
   "source": [
    "## Moment"
   ]
  },
  {
   "cell_type": "code",
   "execution_count": 222,
   "metadata": {},
   "outputs": [],
   "source": [
    "from scipy.stats import skew, kurtosis\n",
    "group_mean = np.zeros((len(all_subjects),302))\n",
    "group_std = np.zeros((len(all_subjects),302))\n",
    "group_skew = np.zeros((len(all_subjects),302))\n",
    "group_kurto = np.zeros((len(all_subjects),302))\n",
    "\n",
    "\n",
    "for i,sub in enumerate(all_subjects):\n",
    "    sub_nm = sub.split('/')[-1]\n",
    "    \n",
    "    # load intensity\n",
    "    temp = np.loadtxt(f\"./surfaces/{sub_nm}/anat/surfaces/micro_profiles/{sub_nm}_space-fsaverage5_atlas-schaefer-300_desc-intensity_profiles.txt\")\n",
    "\n",
    "    # delete nan\n",
    "    nan_ls = np.unique(np.where(np.isnan(temp))[1])\n",
    "    inten = np.delete(temp, nan_ls, axis=1)\n",
    "    \n",
    "    # momnet\n",
    "    mean = inten.mean(0)\n",
    "    std = inten.std(0)\n",
    "    skew_ = skew(inten)\n",
    "    kurto_ = kurtosis(inten)\n",
    "    ## fill medial wall\n",
    "    \n",
    "    group_mean[i,1:151],group_mean[i,152:] = mean[:150],mean[150:]\n",
    "    group_std[i,1:151],group_std[i,152:] = std[:150],std[150:]\n",
    "    group_skew[i,1:151],group_skew[i,152:] = skew_[:150],skew_[150:]\n",
    "    group_kurto[i,1:151],group_kurto[i,152:] = kurto_[:150],kurto_[150:]    "
   ]
  },
  {
   "cell_type": "code",
   "execution_count": 223,
   "metadata": {},
   "outputs": [],
   "source": [
    "group_mean_df = pd.DataFrame(group_mean)\n",
    "group_mean_df['age'] = demo_info\n",
    "group_std_df = pd.DataFrame(group_std)\n",
    "group_std_df['age'] = demo_info\n",
    "group_skew_df = pd.DataFrame(group_skew)\n",
    "group_skew_df['age'] = demo_info\n",
    "group_kurto_df = pd.DataFrame(group_kurto)\n",
    "group_kurto_df['age'] = demo_info"
   ]
  },
  {
   "cell_type": "code",
   "execution_count": 224,
   "metadata": {},
   "outputs": [],
   "source": [
    "group_mean_df.to_csv('group_mean.csv',index = False)\n",
    "group_std_df.to_csv('group_std.csv',index = False)\n",
    "group_skew_df.to_csv('group_skew.csv',index = False)\n",
    "group_kurto_df.to_csv('group_kurto.csv',index = False)"
   ]
  },
  {
   "cell_type": "markdown",
   "metadata": {},
   "source": [
    "## Ventrical"
   ]
  },
  {
   "cell_type": "code",
   "execution_count": 226,
   "metadata": {},
   "outputs": [],
   "source": [
    "ventrical_vol = np.zeros((len(all_subjects),1))\n",
    "for i,root in enumerate(all_subjects):\n",
    "    f = 'stats/brainvol.stats'\n",
    "    with open(os.path.join(root,f),'r') as f:\n",
    "        vol=float(f.readlines()[-1].split(',')[-2])\n",
    "        ventrical_vol[i] = vol\n"
   ]
  },
  {
   "cell_type": "code",
   "execution_count": 227,
   "metadata": {},
   "outputs": [],
   "source": [
    "ventrical_vol_df = pd.DataFrame(ventrical_vol)\n",
    "ventrical_vol_df['age'] = demo_info"
   ]
  },
  {
   "cell_type": "code",
   "execution_count": 228,
   "metadata": {},
   "outputs": [
    {
     "data": {
      "text/plain": [
       "<Axes: xlabel='age'>"
      ]
     },
     "execution_count": 228,
     "metadata": {},
     "output_type": "execute_result"
    },
    {
     "data": {
      "image/png": "[encoded data removed]",
      "text/plain": [
       "<Figure size 640x480 with 1 Axes>"
      ]
     },
     "metadata": {},
     "output_type": "display_data"
    }
   ],
   "source": [
    "ventrical_vol_df.groupby('age').mean().plot()"
   ]
  },
  {
   "cell_type": "markdown",
   "metadata": {},
   "source": [
    "## Thickness of 4 lobes"
   ]
  },
  {
   "cell_type": "code",
   "execution_count": 229,
   "metadata": {},
   "outputs": [],
   "source": [
    "[labels_rh, ctab_rh, names_rh] = nib.freesurfer.io.read_annot('./MPC/parcellations/rh.aparc_mics.annot')\n",
    "[labels_lh, ctab_lh, names_lh] = nib.freesurfer.io.read_annot('./MPC/parcellations/lh.aparc_mics.annot')"
   ]
  },
  {
   "cell_type": "code",
   "execution_count": 230,
   "metadata": {},
   "outputs": [],
   "source": [
    "for i in range(len(names_lh)):\n",
    "    if names_lh[i] != names_rh[i]:\n",
    "        print(names_lh[i] , names_rh[i])"
   ]
  },
  {
   "cell_type": "code",
   "execution_count": 231,
   "metadata": {},
   "outputs": [],
   "source": [
    "brain_lobe_mapping = {\n",
    "    'unknown': 'unknown',\n",
    "    'bankssts': 'Temporal Lobe',\n",
    "    'caudalanteriorcingulate': 'unknown',\n",
    "    'caudalmiddlefrontal': 'Frontal Lobe',\n",
    "    'corpuscallosum': 'unknown',\n",
    "    'cuneus': 'Occipital Lobe',\n",
    "    'entorhinal': 'Temporal Lobe',\n",
    "    'fusiform': 'Temporal Lobe',\n",
    "    'inferiorparietal': 'Parietal Lobe',\n",
    "    'inferiortemporal': 'Temporal Lobe',\n",
    "    'isthmuscingulate': 'unknown',\n",
    "    'lateraloccipital': 'Occipital Lobe',\n",
    "    'lateralorbitofrontal': 'Frontal Lobe',\n",
    "    'lingual': 'Occipital Lobe',\n",
    "    'medialorbitofrontal': 'Frontal Lobe',\n",
    "    'middletemporal': 'Temporal Lobe',\n",
    "    'parahippocampal': 'Temporal Lobe',\n",
    "    'paracentral': 'Parietal Lobe',\n",
    "    'parsopercularis': 'Frontal Lobe',\n",
    "    'parsorbitalis': 'Frontal Lobe',\n",
    "    'parstriangularis': 'Frontal Lobe',\n",
    "    'pericalcarine': 'Occipital Lobe',\n",
    "    'postcentral': 'Parietal Lobe',\n",
    "    'posteriorcingulate': 'unknown',\n",
    "    'precentral': 'Frontal Lobe',\n",
    "    'precuneus': 'Parietal Lobe',\n",
    "    'rostralanteriorcingulate': 'unknown',\n",
    "    'rostralmiddlefrontal': 'Frontal Lobe',\n",
    "    'superiorfrontal': 'Frontal Lobe',\n",
    "    'superiorparietal': 'Parietal Lobe',\n",
    "    'superiortemporal': 'Temporal Lobe',\n",
    "    'supramarginal': 'Parietal Lobe',\n",
    "    'frontalpole': 'Frontal Lobe',\n",
    "    'temporalpole': 'Temporal Lobe',\n",
    "    'transversetemporal': 'Temporal Lobe',\n",
    "    'insula': 'unknown',\n",
    "}\n"
   ]
  },
  {
   "cell_type": "code",
   "execution_count": 232,
   "metadata": {},
   "outputs": [],
   "source": [
    "lobe_label_mapping = {\n",
    "    'unknown' : 0,\n",
    "    'Frontal Lobe' : 1,\n",
    "    'Occipital Lobe' : 2,\n",
    "    'Parietal Lobe' : 3,\n",
    "    'Temporal Lobe' : 4\n",
    "    \n",
    "}"
   ]
  },
  {
   "cell_type": "code",
   "execution_count": 233,
   "metadata": {},
   "outputs": [],
   "source": [
    "lobes_name = [brain_lobe_mapping[n.decode()] for n in names_rh]\n",
    "fsa_lobes = [lobes_name[n] for n in labels_lh] + [lobes_name[n] for n in labels_rh]"
   ]
  },
  {
   "cell_type": "code",
   "execution_count": 234,
   "metadata": {},
   "outputs": [
    {
     "data": {
      "text/html": [
       "<div>\n",
       "<style scoped>\n",
       "    .dataframe tbody tr th:only-of-type {\n",
       "        vertical-align: middle;\n",
       "    }\n",
       "\n",
       "    .dataframe tbody tr th {\n",
       "        vertical-align: top;\n",
       "    }\n",
       "\n",
       "    .dataframe thead th {\n",
       "        text-align: right;\n",
       "    }\n",
       "</style>\n",
       "<table border=\"1\" class=\"dataframe\">\n",
       "  <thead>\n",
       "    <tr style=\"text-align: right;\">\n",
       "      <th>lobe_name</th>\n",
       "      <th>Frontal Lobe</th>\n",
       "      <th>Occipital Lobe</th>\n",
       "      <th>Parietal Lobe</th>\n",
       "      <th>Temporal Lobe</th>\n",
       "      <th>unknown</th>\n",
       "    </tr>\n",
       "  </thead>\n",
       "  <tbody>\n",
       "    <tr>\n",
       "      <th>0</th>\n",
       "      <td>2.919385</td>\n",
       "      <td>2.250832</td>\n",
       "      <td>2.633127</td>\n",
       "      <td>3.080288</td>\n",
       "      <td>1.763797</td>\n",
       "    </tr>\n",
       "    <tr>\n",
       "      <th>1</th>\n",
       "      <td>2.850094</td>\n",
       "      <td>2.522841</td>\n",
       "      <td>2.829792</td>\n",
       "      <td>3.148796</td>\n",
       "      <td>1.820480</td>\n",
       "    </tr>\n",
       "    <tr>\n",
       "      <th>2</th>\n",
       "      <td>3.003755</td>\n",
       "      <td>2.562051</td>\n",
       "      <td>2.837033</td>\n",
       "      <td>3.282596</td>\n",
       "      <td>1.910328</td>\n",
       "    </tr>\n",
       "    <tr>\n",
       "      <th>3</th>\n",
       "      <td>2.962114</td>\n",
       "      <td>2.482843</td>\n",
       "      <td>2.572268</td>\n",
       "      <td>3.122958</td>\n",
       "      <td>1.816171</td>\n",
       "    </tr>\n",
       "    <tr>\n",
       "      <th>4</th>\n",
       "      <td>2.898719</td>\n",
       "      <td>2.447515</td>\n",
       "      <td>2.810146</td>\n",
       "      <td>2.983223</td>\n",
       "      <td>1.779561</td>\n",
       "    </tr>\n",
       "    <tr>\n",
       "      <th>...</th>\n",
       "      <td>...</td>\n",
       "      <td>...</td>\n",
       "      <td>...</td>\n",
       "      <td>...</td>\n",
       "      <td>...</td>\n",
       "    </tr>\n",
       "    <tr>\n",
       "      <th>231</th>\n",
       "      <td>3.090019</td>\n",
       "      <td>2.586009</td>\n",
       "      <td>2.822135</td>\n",
       "      <td>3.157678</td>\n",
       "      <td>1.824357</td>\n",
       "    </tr>\n",
       "    <tr>\n",
       "      <th>232</th>\n",
       "      <td>3.044323</td>\n",
       "      <td>2.588915</td>\n",
       "      <td>2.839175</td>\n",
       "      <td>3.244269</td>\n",
       "      <td>1.867060</td>\n",
       "    </tr>\n",
       "    <tr>\n",
       "      <th>233</th>\n",
       "      <td>3.192189</td>\n",
       "      <td>2.556349</td>\n",
       "      <td>2.888946</td>\n",
       "      <td>3.314062</td>\n",
       "      <td>1.887521</td>\n",
       "    </tr>\n",
       "    <tr>\n",
       "      <th>234</th>\n",
       "      <td>3.149099</td>\n",
       "      <td>2.294666</td>\n",
       "      <td>2.718898</td>\n",
       "      <td>3.274567</td>\n",
       "      <td>1.860589</td>\n",
       "    </tr>\n",
       "    <tr>\n",
       "      <th>235</th>\n",
       "      <td>2.957118</td>\n",
       "      <td>2.401917</td>\n",
       "      <td>2.766938</td>\n",
       "      <td>3.042006</td>\n",
       "      <td>1.791275</td>\n",
       "    </tr>\n",
       "  </tbody>\n",
       "</table>\n",
       "<p>236 rows × 5 columns</p>\n",
       "</div>"
      ],
      "text/plain": [
       "lobe_name  Frontal Lobe  Occipital Lobe  Parietal Lobe  Temporal Lobe  \\\n",
       "0              2.919385        2.250832       2.633127       3.080288   \n",
       "1              2.850094        2.522841       2.829792       3.148796   \n",
       "2              3.003755        2.562051       2.837033       3.282596   \n",
       "3              2.962114        2.482843       2.572268       3.122958   \n",
       "4              2.898719        2.447515       2.810146       2.983223   \n",
       "..                  ...             ...            ...            ...   \n",
       "231            3.090019        2.586009       2.822135       3.157678   \n",
       "232            3.044323        2.588915       2.839175       3.244269   \n",
       "233            3.192189        2.556349       2.888946       3.314062   \n",
       "234            3.149099        2.294666       2.718898       3.274567   \n",
       "235            2.957118        2.401917       2.766938       3.042006   \n",
       "\n",
       "lobe_name   unknown  \n",
       "0          1.763797  \n",
       "1          1.820480  \n",
       "2          1.910328  \n",
       "3          1.816171  \n",
       "4          1.779561  \n",
       "..              ...  \n",
       "231        1.824357  \n",
       "232        1.867060  \n",
       "233        1.887521  \n",
       "234        1.860589  \n",
       "235        1.791275  \n",
       "\n",
       "[236 rows x 5 columns]"
      ]
     },
     "execution_count": 234,
     "metadata": {},
     "output_type": "execute_result"
    }
   ],
   "source": [
    "brain_feature_thickness_by_lobes = brain_feature_thickness.T\n",
    "brain_feature_thickness_by_lobes['lobe_name'] = fsa_lobes\n",
    "brain_feature_thickness_by_lobes = brain_feature_thickness_by_lobes.groupby('lobe_name').mean().T\n",
    "brain_feature_thickness_by_lobes"
   ]
  },
  {
   "cell_type": "code",
   "execution_count": 235,
   "metadata": {},
   "outputs": [],
   "source": [
    "age_thickness_lobes_df = pd.DataFrame(columns=brain_feature_thickness_by_lobes.columns)\n",
    "for age in range(10,81,10):\n",
    "    by_age = brain_feature_thickness_by_lobes.loc[np.where(np.array(demo_info) == age)]\n",
    "    age_thickness_lobes_df.loc[age] = np.mean(by_age,axis = 0)"
   ]
  },
  {
   "cell_type": "code",
   "execution_count": 236,
   "metadata": {},
   "outputs": [
    {
     "data": {
      "image/png": "[encoded data removed]",
      "text/plain": [
       "<Figure size 2000x1000 with 4 Axes>"
      ]
     },
     "metadata": {},
     "output_type": "display_data"
    }
   ],
   "source": [
    "import matplotlib.pyplot as plt\n",
    "plt.figure(figsize=(20,10))\n",
    "for i in range(4):\n",
    "    plt.subplot(2,2,i+1)\n",
    "    plt.plot(age_thickness_lobes_df.iloc[:,i])\n",
    "    plt.grid(color='gray', linestyle='-', linewidth=0.5)\n",
    "    plt.ylim(2.4,3.3)\n",
    "    plt.xlabel('age')\n",
    "    plt.ylabel(f'{age_thickness_lobes_df.columns[i]} thickness')"
   ]
  },
  {
   "cell_type": "markdown",
   "metadata": {},
   "source": [
    "## External data (eNKI)"
   ]
  },
  {
   "cell_type": "code",
   "execution_count": 37,
   "metadata": {},
   "outputs": [],
   "source": [
    "from monai.metrics import PSNRMetric,MSEMetric\n",
    "from monai.metrics.regression import SSIMMetric\n",
    "from monai.transforms import ScaleIntensityRangePercentiles\n"
   ]
  },
  {
   "cell_type": "code",
   "execution_count": 38,
   "metadata": {},
   "outputs": [],
   "source": [
    "transform = ScaleIntensityRangePercentiles(lower=0.0, upper=99.5, b_min=0.0, b_max=1, clip=False)"
   ]
  },
  {
   "cell_type": "code",
   "execution_count": 46,
   "metadata": {},
   "outputs": [
    {
     "name": "stderr",
     "output_type": "stream",
     "text": [
      "/tmp/ipykernel_49699/3004689276.py:39: FutureWarning: The behavior of DataFrame concatenation with empty or all-NA entries is deprecated. In a future version, this will no longer exclude empty or all-NA columns when determining the result dtypes. To retain the old behavior, exclude the relevant entries before the concat operation.\n",
      "  metric_df = pd.concat([metric_df,pd.DataFrame(np.zeros((1,6)),columns = metric_df.columns)],ignore_index = True)\n",
      "/tmp/ipykernel_49699/3004689276.py:40: FutureWarning: Setting an item of incompatible dtype is deprecated and will raise an error in a future version of pandas. Value 'T1w_age_17.386301040649414.nii.gz' has dtype incompatible with float64, please explicitly cast to a compatible dtype first.\n",
      "  metric_df.iloc[-1] = metric_list\n",
      "/tmp/ipykernel_49699/3004689276.py:40: FutureWarning: Setting an item of incompatible dtype is deprecated and will raise an error in a future version of pandas. Value 'T2' has dtype incompatible with float64, please explicitly cast to a compatible dtype first.\n",
      "  metric_df.iloc[-1] = metric_list\n",
      "/tmp/ipykernel_49699/3004689276.py:40: FutureWarning: Setting an item of incompatible dtype is deprecated and will raise an error in a future version of pandas. Value 'T1w_age_17.386301040649414.nii.gz' has dtype incompatible with float64, please explicitly cast to a compatible dtype first.\n",
      "  metric_df.iloc[-1] = metric_list\n"
     ]
    },
    {
     "name": "stdout",
     "output_type": "stream",
     "text": [
      "T1w_age_17.386301040649414.nii.gz PSNR: 27.36474806746926, SSIM: 0.8865529894828796, MSE: 0.009858711536323284\n",
      "T1w_age_19.391780853271484.nii.gz PSNR: 27.915425264335322, SSIM: 0.8937557339668274, MSE: 0.008754560852935021\n",
      "T1w_age_14.479452133178711.nii.gz PSNR: 27.82018806157309, SSIM: 0.8950141270955404, MSE: 0.008928109495969892\n",
      "T1w_age_11.339726448059082.nii.gz PSNR: 27.540951879124417, SSIM: 0.8957591652870178, MSE: 0.008717508250975335\n",
      "T1w_age_15.920547485351562.nii.gz PSNR: 27.727046146677015, SSIM: 0.8982926130294799, MSE: 0.008407831810203388\n",
      "T1w_age_15.832877159118652.nii.gz PSNR: 27.711137008421904, SSIM: 0.8970412214597067, MSE: 0.008444578099272718\n",
      "T1w_age_12.106849670410156.nii.gz PSNR: 27.674419631248693, SSIM: 0.8975984794752938, MSE: 0.008617912102802492\n",
      "T1w_age_16.7780818939209.nii.gz PSNR: 27.595717545743994, SSIM: 0.896143950521946, MSE: 0.008867226329327611\n",
      "T1w_age_13.545205116271973.nii.gz PSNR: 27.568625046869425, SSIM: 0.8949880401293436, MSE: 0.008692327488446209\n",
      "T1w_age_11.890411376953125.nii.gz PSNR: 27.315613166655236, SSIM: 0.8933979213237763, MSE: 0.008662378866773072\n",
      "T1w_age_12.331506729125977.nii.gz PSNR: 27.158128416005162, SSIM: 0.8923855532299388, MSE: 0.008705799658967905\n",
      "T1w_age_11.654794692993164.nii.gz PSNR: 27.216378765077632, SSIM: 0.8924353271722794, MSE: 0.008713816930784985\n",
      "T1w_age_12.186301231384277.nii.gz PSNR: 27.28441158158955, SSIM: 0.8923229850255526, MSE: 0.008673655652685087\n",
      "T1w_age_14.780821800231934.nii.gz PSNR: 27.340845748979714, SSIM: 0.8929379028933389, MSE: 0.008652131890169322\n",
      "T1w_age_12.046575546264648.nii.gz PSNR: 27.392178616170277, SSIM: 0.893637748559316, MSE: 0.008628825909301436\n",
      "T1w_age_14.287671089172363.nii.gz PSNR: 27.379072528245683, SSIM: 0.8936225473880768, MSE: 0.008626010201907317\n",
      "T1w_age_14.545205116271973.nii.gz PSNR: 27.427757160130767, SSIM: 0.893696500974543, MSE: 0.008581449696426643\n",
      "T1w_age_13.049315452575684.nii.gz PSNR: 27.404997708638074, SSIM: 0.8930511573950449, MSE: 0.008546251366386955\n",
      "T1w_age_16.876712799072266.nii.gz PSNR: 27.374598625236906, SSIM: 0.8924496267971239, MSE: 0.008590931564413406\n",
      "T1w_age_12.61917781829834.nii.gz PSNR: 27.356924213207378, SSIM: 0.8922308146953583, MSE: 0.008618365458150852\n",
      "T1w_age_15.076712608337402.nii.gz PSNR: 27.381425912216702, SSIM: 0.8923070203690302, MSE: 0.008625729823087073\n",
      "T1w_age_16.857534408569336.nii.gz PSNR: 27.366955146442137, SSIM: 0.8921677226370032, MSE: 0.008684342262171988\n",
      "T1w_age_11.786301612854004.nii.gz PSNR: 27.434125750409052, SSIM: 0.8927186623863552, MSE: 0.00860694041727826\n",
      "T1w_age_11.76986312866211.nii.gz PSNR: 27.426408943149053, SSIM: 0.8923597435156504, MSE: 0.008622026988190666\n",
      "T1w_age_17.043834686279297.nii.gz PSNR: 27.424656658361588, SSIM: 0.8922328853607178, MSE: 0.008669876539489989\n",
      "T1w_age_19.421916961669922.nii.gz PSNR: 27.352336371505096, SSIM: 0.8916242695771731, MSE: 0.008653180953766786\n",
      "T1w_age_16.663013458251953.nii.gz PSNR: 27.364001702939795, SSIM: 0.8916803311418604, MSE: 0.008673258677356918\n",
      "T1w_age_18.189041137695312.nii.gz PSNR: 27.371654917245277, SSIM: 0.8915942460298538, MSE: 0.008685686011617047\n",
      "T1w_age_16.6849308013916.nii.gz PSNR: 27.331305220850687, SSIM: 0.8908192433159927, MSE: 0.008687552245591448\n",
      "T1w_age_13.197259902954102.nii.gz PSNR: 27.333163303967975, SSIM: 0.8907235781351726, MSE: 0.008687575543100434\n",
      "T1w_age_11.065752983093262.nii.gz PSNR: 27.270236739761604, SSIM: 0.8904509486690644, MSE: 0.008654682936675191\n",
      "T1w_age_12.027397155761719.nii.gz PSNR: 27.287754069289914, SSIM: 0.8904690202325583, MSE: 0.008627322077212812\n",
      "T1w_age_14.306849479675293.nii.gz PSNR: 27.286175685093838, SSIM: 0.8904203808668888, MSE: 0.008668840877878892\n",
      "T1w_age_10.687671661376953.nii.gz PSNR: 27.301833857895407, SSIM: 0.8904187626698438, MSE: 0.008664925050609971\n",
      "T1w_age_14.98082160949707.nii.gz PSNR: 27.2770445430556, SSIM: 0.890123804977962, MSE: 0.008679481911210752\n",
      "T1w_age_16.832876205444336.nii.gz PSNR: 27.274127492853808, SSIM: 0.8901224550273683, MSE: 0.008673312214640249\n",
      "T1w_age_18.583560943603516.nii.gz PSNR: 27.26632933483959, SSIM: 0.8902848362922668, MSE: 0.008692182098043743\n",
      "T1w_age_16.03835678100586.nii.gz PSNR: 27.275898991694316, SSIM: 0.8901743653573488, MSE: 0.008698032579896292\n",
      "T1w_age_14.936985969543457.nii.gz PSNR: 27.231888375427427, SSIM: 0.8899773848362458, MSE: 0.008703636495151787\n",
      "T1w_age_15.747944831848145.nii.gz PSNR: 27.261669083305982, SSIM: 0.8901320040225983, MSE: 0.008679208299909114\n",
      "T1w_age_12.926027297973633.nii.gz PSNR: 27.254730186080423, SSIM: 0.8900675700932015, MSE: 0.00868513551438137\n",
      "T1w_age_11.106849670410156.nii.gz PSNR: 27.265245483796086, SSIM: 0.8902679653394789, MSE: 0.008682389704279895\n",
      "T1w_age_18.350685119628906.nii.gz PSNR: 27.254270137546342, SSIM: 0.8901313002719435, MSE: 0.008702575109190194\n",
      "T1w_age_16.638355255126953.nii.gz PSNR: 27.260372654461374, SSIM: 0.8899954801256006, MSE: 0.008720844251657277\n",
      "T1w_age_13.961644172668457.nii.gz PSNR: 27.275768334528628, SSIM: 0.8901327358351814, MSE: 0.008718369586962291\n",
      "T1w_age_14.24383544921875.nii.gz PSNR: 27.281318482620303, SSIM: 0.890461398207623, MSE: 0.008719246177632485\n",
      "T1w_age_16.75068473815918.nii.gz PSNR: 27.278970654504747, SSIM: 0.8903225875915365, MSE: 0.008716848501836532\n",
      "T1w_age_13.11780834197998.nii.gz PSNR: 27.279390229671296, SSIM: 0.8904860926171144, MSE: 0.008721497573777319\n",
      "T1w_age_17.569862365722656.nii.gz PSNR: 27.308884530943896, SSIM: 0.8907958585388807, MSE: 0.00869061633406697\n",
      "T1w_age_16.186302185058594.nii.gz PSNR: 27.348597073540294, SSIM: 0.891197612285614, MSE: 0.008643240894744348\n",
      "T1w_age_18.720548629760742.nii.gz PSNR: 27.360064838855845, SSIM: 0.8913169035724565, MSE: 0.008643347476375938\n",
      "T1w_age_11.531506538391113.nii.gz PSNR: 27.349523995288163, SSIM: 0.891238075036269, MSE: 0.008649271259331733\n"
     ]
    }
   ],
   "source": [
    "import numpy as np\n",
    "import pandas as pd\n",
    "import nibabel as nib\n",
    "import torch\n",
    "import os\n",
    "\n",
    "\n",
    "\n",
    "output_dir = 'output_eNKI/subjects_eNKI_reg'\n",
    "original_dir = 'subjects_eNKI'\n",
    "pred = False\n",
    "metric_df = pd.DataFrame(columns = ['subject_id','original_modality','target_modality','PSNR','SSIM','MSE'])\n",
    "pnsr_list = []\n",
    "ssim_list = []\n",
    "MSE_list = []\n",
    "\n",
    "for root, dir, files in os.walk(output_dir):\n",
    "    for f in files:\n",
    "        if ('T1w' in f) & ('.nii.gz' in f):\n",
    "            true_f = os.path.join(root,f).replace(output_dir, original_dir).split('_reg')[0] + '.nii.gz'\n",
    "            true_f.replace('V2','V4')\n",
    "            pred = nib.load(os.path.join(root,f)).get_fdata()[:,:,:,0]\n",
    "            pred = torch.tensor(pred).unsqueeze(0)\n",
    "            true = nib.load(true_f).get_fdata()\n",
    "            true = torch.tensor(true).unsqueeze(0)\n",
    "            true = transform(true)\n",
    "\n",
    "            pnsr_metric = PSNRMetric(torch.max(true))\n",
    "            ssim_metric = SSIMMetric(3,torch.max(true))\n",
    "            mse_metric = MSEMetric()\n",
    "    \n",
    "            pnsr = pnsr_metric(true.unsqueeze(0),pred.unsqueeze(0))\n",
    "            ssim = ssim_metric(true.unsqueeze(0),pred.unsqueeze(0))\n",
    "            mse = mse_metric(true.unsqueeze(0),pred.unsqueeze(0))\n",
    "            pnsr_list.append(pnsr.item())\n",
    "            ssim_list.append(ssim.item())\n",
    "            MSE_list.append(mse.item())\n",
    "            metric_list = [f,'T1' if 'T2' in f else 'T2',f,pnsr.item(),ssim.item(),mse.item()]\n",
    "            metric_df = pd.concat([metric_df,pd.DataFrame(np.zeros((1,6)),columns = metric_df.columns)],ignore_index = True)\n",
    "            metric_df.iloc[-1] = metric_list\n",
    "            print(f'{f} PSNR: {np.mean(pnsr_list)}, SSIM: {np.mean(ssim_list)}, MSE: {np.mean(MSE_list)}')\n",
    "            \n",
    "\n"
   ]
  },
  {
   "cell_type": "code",
   "execution_count": 50,
   "metadata": {},
   "outputs": [
    {
     "data": {
      "text/html": [
       "<div>\n",
       "<style scoped>\n",
       "    .dataframe tbody tr th:only-of-type {\n",
       "        vertical-align: middle;\n",
       "    }\n",
       "\n",
       "    .dataframe tbody tr th {\n",
       "        vertical-align: top;\n",
       "    }\n",
       "\n",
       "    .dataframe thead th {\n",
       "        text-align: right;\n",
       "    }\n",
       "</style>\n",
       "<table border=\"1\" class=\"dataframe\">\n",
       "  <thead>\n",
       "    <tr style=\"text-align: right;\">\n",
       "      <th></th>\n",
       "      <th>PSNR</th>\n",
       "      <th>SSIM</th>\n",
       "      <th>MSE</th>\n",
       "    </tr>\n",
       "    <tr>\n",
       "      <th>target_modality</th>\n",
       "      <th></th>\n",
       "      <th></th>\n",
       "      <th></th>\n",
       "    </tr>\n",
       "  </thead>\n",
       "  <tbody>\n",
       "    <tr>\n",
       "      <th>T1</th>\n",
       "      <td>27.349524</td>\n",
       "      <td>0.891238</td>\n",
       "      <td>0.008649</td>\n",
       "    </tr>\n",
       "  </tbody>\n",
       "</table>\n",
       "</div>"
      ],
      "text/plain": [
       "                      PSNR      SSIM       MSE\n",
       "target_modality                               \n",
       "T1               27.349524  0.891238  0.008649"
      ]
     },
     "execution_count": 50,
     "metadata": {},
     "output_type": "execute_result"
    }
   ],
   "source": [
    "metric_df['target_modality'] = metric_df['target_modality'].apply(lambda x: 'T1' if 'T1' in x else 'T2')\n",
    "metric_df.groupby(['target_modality'])[['PSNR','SSIM','MSE']].mean()"
   ]
  },
  {
   "cell_type": "code",
   "execution_count": 54,
   "metadata": {},
   "outputs": [
    {
     "data": {
      "text/html": [
       "<div>\n",
       "<style scoped>\n",
       "    .dataframe tbody tr th:only-of-type {\n",
       "        vertical-align: middle;\n",
       "    }\n",
       "\n",
       "    .dataframe tbody tr th {\n",
       "        vertical-align: top;\n",
       "    }\n",
       "\n",
       "    .dataframe thead th {\n",
       "        text-align: right;\n",
       "    }\n",
       "</style>\n",
       "<table border=\"1\" class=\"dataframe\">\n",
       "  <thead>\n",
       "    <tr style=\"text-align: right;\">\n",
       "      <th></th>\n",
       "      <th>PSNR</th>\n",
       "      <th>SSIM</th>\n",
       "      <th>MSE</th>\n",
       "    </tr>\n",
       "    <tr>\n",
       "      <th>target_modality</th>\n",
       "      <th></th>\n",
       "      <th></th>\n",
       "      <th></th>\n",
       "    </tr>\n",
       "  </thead>\n",
       "  <tbody>\n",
       "    <tr>\n",
       "      <th>T1</th>\n",
       "      <td>27.35±0.88</td>\n",
       "      <td>0.891±0.009</td>\n",
       "      <td>0.009±0.001</td>\n",
       "    </tr>\n",
       "  </tbody>\n",
       "</table>\n",
       "</div>"
      ],
      "text/plain": [
       "                       PSNR         SSIM          MSE\n",
       "target_modality                                      \n",
       "T1               27.35±0.88  0.891±0.009  0.009±0.001"
      ]
     },
     "execution_count": 54,
     "metadata": {},
     "output_type": "execute_result"
    }
   ],
   "source": [
    "metric_table = metric_df.groupby(['target_modality'])[['PSNR','SSIM','MSE']].mean()\n",
    "metric_table.round(3).astype(str) + '±' + metric_df.groupby(['target_modality'])[['PSNR','SSIM','MSE']].std().round(3).astype(str)"
   ]
  },
  {
   "cell_type": "markdown",
   "metadata": {},
   "source": [
    "## Evaluating modality transfer"
   ]
  },
  {
   "cell_type": "code",
   "execution_count": 192,
   "metadata": {},
   "outputs": [],
   "source": [
    "from scripts.utils import inference_sample,dataloader,cleanup_DDP_checkpoint,parse_train_files,transformation\n",
    "from scripts.utils import load_config\n",
    "import torch\n",
    "from tqdm import tqdm\n",
    "import numpy as np\n",
    "import pandas as pd\n",
    "import pickle\n",
    "import warnings\n",
    "warnings.filterwarnings(\"ignore\")\n",
    "train_files = parse_train_files('./subjects/subjects.txt')\n",
    "batch_size = 1\n",
    "infer_dl = dataloader(train_files,batch_size=batch_size,device='cuda',cache_rate=0.0,num_workers=10)"
   ]
  },
  {
   "cell_type": "code",
   "execution_count": 183,
   "metadata": {},
   "outputs": [],
   "source": [
    "args = load_config(\"config.json\")"
   ]
  },
  {
   "cell_type": "code",
   "execution_count": 167,
   "metadata": {},
   "outputs": [],
   "source": [
    "from scripts.models import load_vae_gan,load_unet,load_control_net\n",
    "from monai.networks.schedulers import PNDMScheduler\n",
    "autoencoder = load_vae_gan().to(args.device).eval()\n",
    "controlnet = load_control_net().to(args.device).eval()\n",
    "unet = load_unet().to(args.device).eval()\n",
    "## cleanup DDP checkpoint, we saved model with DDP\n",
    "autoencoder = cleanup_DDP_checkpoint(autoencoder, args.trained_vae_gan_path)\n",
    "unet = cleanup_DDP_checkpoint(unet, args.trained_diffusion_path)\n",
    "controlnet = cleanup_DDP_checkpoint(controlnet, args.trained_controlnet_path)\n",
    "noise_scheduler = PNDMScheduler(num_train_timesteps = 1000)"
   ]
  },
  {
   "cell_type": "code",
   "execution_count": 184,
   "metadata": {},
   "outputs": [],
   "source": [
    "def encode(image,autoencoder):\n",
    "    latent = autoencoder.encode_stage_2_inputs(image)\n",
    "    return latent\n",
    "\n",
    "def decode(latent,autoencoder):\n",
    "    ## because of vram issue, we decode image separately by batch\n",
    "    image = torch.zeros((latent.shape[0],1,256,256,256)).to(latent.device)\n",
    "    for i in range(latent.shape[0]):\n",
    "        image[i] = autoencoder.decode_stage_2_outputs(latent[i].unsqueeze(0))\n",
    "    return image"
   ]
  },
  {
   "cell_type": "code",
   "execution_count": 194,
   "metadata": {},
   "outputs": [],
   "source": [
    "metric_df = pd.DataFrame(columns = ['subject_id','original_modality','target_modality','PSNR','SSIM','MSE'])\n",
    "pnsr_list = []\n",
    "ssim_list = []\n",
    "MSE_list = []"
   ]
  },
  {
   "cell_type": "code",
   "execution_count": 195,
   "metadata": {},
   "outputs": [
    {
     "name": "stderr",
     "output_type": "stream",
     "text": [
      "100%|██████████| 397/397 [7:12:36<00:00, 65.38s/it, PSNR=22.9, SSIM=0.91, MSE=0.0119]   \n"
     ]
    }
   ],
   "source": [
    "with torch.no_grad(),torch.cuda.amp.autocast():\n",
    "    with tqdm(infer_dl) as pbar:\n",
    "        for batch in pbar:\n",
    "            y_path = [{'image':p.replace('T1','T2')} if 'T1' in p else {'image':p.replace('T2','T1')} for p in batch['image_path']]\n",
    "            load_ = transformation(y_path)\n",
    "            y_datas = torch.vstack([load_[i]['image'].unsqueeze(0) for i in range(batch_size)]).to(args.device)\n",
    "            ## make synth_size as batch size, and we generate each age of synth_age\n",
    "            image = batch['image'].to(args.device)\n",
    "            sex_tensor = batch['sex'].to(args.device)\n",
    "            modality_tensor = batch['modality'].to(args.device)\n",
    "            another_modality_tensor = 1- modality_tensor\n",
    "            age_tensor = torch.tensor(batch['age']).to(args.device) / 100\n",
    "            brain_mask = image > 0\n",
    "            \n",
    "            latent_output1 = inference_sample(sex_tensor,\n",
    "                    another_modality_tensor, ## modality tensor is about target modality\n",
    "                    age_tensor,\n",
    "                    controlnet,\n",
    "                    unet,\n",
    "                    image,\n",
    "                    noise_scheduler,\n",
    "                    inference_step=300,\n",
    "                    device = args.device)\n",
    "            output1 = decode(latent_output1,autoencoder)\n",
    "            output1 = output1 * brain_mask\n",
    "            \n",
    "            pnsr_metric = PSNRMetric(torch.max(y_datas))\n",
    "            ssim_metric = SSIMMetric(3,torch.max(y_datas))\n",
    "            mse_metric = MSEMetric()\n",
    "            \n",
    "            pnsr = pnsr_metric(y_datas,output1)\n",
    "            ssim = ssim_metric(y_datas,output1)\n",
    "            mse = mse_metric(y_datas,output1)\n",
    "            pnsr_list.append(pnsr.item())\n",
    "            ssim_list.append(ssim.item())\n",
    "            MSE_list.append(mse.item())\n",
    "            \n",
    "            path = batch['image_path'][0]\n",
    "            metric_list = [path,'T1' if 'T2' in path else 'T2',path.split('/')[-1],pnsr.item(),ssim.item(),mse.item()]\n",
    "            metric_df = pd.concat([metric_df,pd.DataFrame(np.zeros((1,6)),columns = metric_df.columns)],ignore_index = True)\n",
    "            metric_df.iloc[-1] = metric_list\n",
    "            \n",
    "            pbar.set_postfix({'PSNR':np.mean(pnsr_list),'SSIM':np.mean(ssim_list),'MSE':np.mean(MSE_list)})\n",
    "            \n",
    "with open('metric_df.pkl','wb') as f:\n",
    "    pickle.dump(metric_df,f)"
   ]
  },
  {
   "cell_type": "code",
   "execution_count": 203,
   "metadata": {},
   "outputs": [],
   "source": [
    "metric_df['target_modality'] = metric_df['target_modality'].apply(lambda x: 'T1' if 'T1' in x else 'T2')"
   ]
  },
  {
   "cell_type": "code",
   "execution_count": 204,
   "metadata": {},
   "outputs": [
    {
     "data": {
      "text/html": [
       "<div>\n",
       "<style scoped>\n",
       "    .dataframe tbody tr th:only-of-type {\n",
       "        vertical-align: middle;\n",
       "    }\n",
       "\n",
       "    .dataframe tbody tr th {\n",
       "        vertical-align: top;\n",
       "    }\n",
       "\n",
       "    .dataframe thead th {\n",
       "        text-align: right;\n",
       "    }\n",
       "</style>\n",
       "<table border=\"1\" class=\"dataframe\">\n",
       "  <thead>\n",
       "    <tr style=\"text-align: right;\">\n",
       "      <th></th>\n",
       "      <th></th>\n",
       "      <th>PSNR</th>\n",
       "      <th>SSIM</th>\n",
       "      <th>MSE</th>\n",
       "    </tr>\n",
       "    <tr>\n",
       "      <th>original_modality</th>\n",
       "      <th>target_modality</th>\n",
       "      <th></th>\n",
       "      <th></th>\n",
       "      <th></th>\n",
       "    </tr>\n",
       "  </thead>\n",
       "  <tbody>\n",
       "    <tr>\n",
       "      <th>T1</th>\n",
       "      <th>T2</th>\n",
       "      <td>23.784±2.817</td>\n",
       "      <td>0.922±0.013</td>\n",
       "      <td>0.011±0.005</td>\n",
       "    </tr>\n",
       "    <tr>\n",
       "      <th>T2</th>\n",
       "      <th>T1</th>\n",
       "      <td>21.924±1.708</td>\n",
       "      <td>0.897±0.009</td>\n",
       "      <td>0.013±0.005</td>\n",
       "    </tr>\n",
       "  </tbody>\n",
       "</table>\n",
       "</div>"
      ],
      "text/plain": [
       "                                           PSNR         SSIM          MSE\n",
       "original_modality target_modality                                        \n",
       "T1                T2               23.784±2.817  0.922±0.013  0.011±0.005\n",
       "T2                T1               21.924±1.708  0.897±0.009  0.013±0.005"
      ]
     },
     "execution_count": 204,
     "metadata": {},
     "output_type": "execute_result"
    }
   ],
   "source": [
    "metric_table = metric_df.groupby(['original_modality','target_modality'])[['PSNR','SSIM','MSE']].mean()\n",
    "metric_table.round(3).astype(str) + '±' + metric_df.groupby(['original_modality','target_modality'])[['PSNR','SSIM','MSE']].std().round(3).astype(str)"
   ]
  }
 ],
 "metadata": {
  "kernelspec": {
   "display_name": "Python 3",
   "language": "python",
   "name": "python3"
  },
  "language_info": {
   "codemirror_mode": {
    "name": "ipython",
    "version": 3
   },
   "file_extension": ".py",
   "mimetype": "text/x-python",
   "name": "python",
   "nbconvert_exporter": "python",
   "pygments_lexer": "ipython3",
   "version": "3.10.0"
  }
 },
 "nbformat": 4,
 "nbformat_minor": 2
}
